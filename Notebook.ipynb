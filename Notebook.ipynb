{
 "cells": [
  {
   "cell_type": "code",
   "execution_count": 6,
   "metadata": {},
   "outputs": [],
   "source": [
    "import numpy\n",
    "import os \n",
    "import cv2\n",
    "import numpy as np \n",
    "import pandas as pd \n",
    "import os\n",
    "import matplotlib.pyplot as plt\n",
    "from keras.preprocessing.image import load_img\n",
    "from keras.preprocessing.image import img_to_array\n",
    "import random\n",
    "import pickle\n",
    "from pathlib import Path\n",
    "import cv2\n",
    "import os"
   ]
  },
  {
   "cell_type": "code",
   "execution_count": 5,
   "metadata": {},
   "outputs": [
    {
     "name": "stdout",
     "output_type": "stream",
     "text": [
      "Collecting opencv-python\n",
      "  Downloading opencv_python-4.6.0.66-cp36-abi3-win_amd64.whl (35.6 MB)\n",
      "Requirement already satisfied: numpy>=1.19.3 in c:\\users\\mwels\\anaconda3\\lib\\site-packages (from opencv-python) (1.21.5)\n",
      "Installing collected packages: opencv-python\n",
      "Successfully installed opencv-python-4.6.0.66\n"
     ]
    }
   ],
   "source": [
    "!pip install opencv-python"
   ]
  },
  {
   "cell_type": "code",
   "execution_count": 7,
   "metadata": {},
   "outputs": [
    {
     "name": "stdout",
     "output_type": "stream",
     "text": [
      "Apple___Apple_scab\n"
     ]
    },
    {
     "ename": "NameError",
     "evalue": "name 'p' is not defined",
     "output_type": "error",
     "traceback": [
      "\u001b[1;31m---------------------------------------------------------------------------\u001b[0m",
      "\u001b[1;31mNameError\u001b[0m                                 Traceback (most recent call last)",
      "\u001b[1;32mc:\\Users\\mwels\\Documents\\Uni\\11. Semester\\Deep learning in visual recognition\\myawesome\\Notebook.ipynb Zelle 3\u001b[0m in \u001b[0;36m<cell line: 2>\u001b[1;34m()\u001b[0m\n\u001b[0;32m      <a href='vscode-notebook-cell:/c%3A/Users/mwels/Documents/Uni/11.%20Semester/Deep%20learning%20in%20visual%20recognition/myawesome/Notebook.ipynb#W1sZmlsZQ%3D%3D?line=1'>2</a>\u001b[0m \u001b[39mfor\u001b[39;00m c \u001b[39min\u001b[39;00m classes:\n\u001b[0;32m      <a href='vscode-notebook-cell:/c%3A/Users/mwels/Documents/Uni/11.%20Semester/Deep%20learning%20in%20visual%20recognition/myawesome/Notebook.ipynb#W1sZmlsZQ%3D%3D?line=2'>3</a>\u001b[0m   \u001b[39mprint\u001b[39m(c)\n\u001b[1;32m----> <a href='vscode-notebook-cell:/c%3A/Users/mwels/Documents/Uni/11.%20Semester/Deep%20learning%20in%20visual%20recognition/myawesome/Notebook.ipynb#W1sZmlsZQ%3D%3D?line=3'>4</a>\u001b[0m   filelist \u001b[39m=\u001b[39m [x \u001b[39mfor\u001b[39;00m x \u001b[39min\u001b[39;00m (p\u001b[39m/\u001b[39mc)\u001b[39m.\u001b[39miterdir() \u001b[39mif\u001b[39;00m x\u001b[39m.\u001b[39mis_file()]\n\u001b[0;32m      <a href='vscode-notebook-cell:/c%3A/Users/mwels/Documents/Uni/11.%20Semester/Deep%20learning%20in%20visual%20recognition/myawesome/Notebook.ipynb#W1sZmlsZQ%3D%3D?line=4'>5</a>\u001b[0m   \u001b[39mfor\u001b[39;00m f \u001b[39min\u001b[39;00m filelist:\n\u001b[0;32m      <a href='vscode-notebook-cell:/c%3A/Users/mwels/Documents/Uni/11.%20Semester/Deep%20learning%20in%20visual%20recognition/myawesome/Notebook.ipynb#W1sZmlsZQ%3D%3D?line=5'>6</a>\u001b[0m     img \u001b[39m=\u001b[39m cv2\u001b[39m.\u001b[39mimread(\u001b[39mstr\u001b[39m(f))\n",
      "\u001b[1;31mNameError\u001b[0m: name 'p' is not defined"
     ]
    }
   ],
   "source": [
    "classes = ['Apple___Apple_scab','Apple___healthy']\n",
    "for c in classes:\n",
    "  print(c)\n",
    "  filelist = [x for x in (p/c).iterdir() if x.is_file()]\n",
    "  for f in filelist:\n",
    "    img = cv2.imread(str(f))\n",
    "    if img is None:\n",
    "      print(f'Failed to open {f}. Deleting file')\n",
    "      os.remove(str(f))"
   ]
  },
  {
   "cell_type": "code",
   "execution_count": null,
   "metadata": {},
   "outputs": [],
   "source": [
    "from keras.preprocessing import image\n",
    "from keras.applications.mobilenet import preprocess_input\n",
    "\n",
    "# Pick first image of first class (i.e., cat)\n",
    "filelist = [x for x in (p/classes[0]).iterdir() if x.is_file()]\n",
    "img_path = filelist[1]\n",
    "print(f\"File path: {img_path}\")\n",
    "\n",
    "# Load image and preprocess it\n",
    "img = image.load_img(img_path, target_size=(120, 120))\n",
    "img_data = image.img_to_array(img)\n",
    "img_data = np.expand_dims(img_data, axis=0)\n",
    "img_preprocessed = preprocess_input(img_data.copy())"
   ]
  },
  {
   "cell_type": "code",
   "execution_count": null,
   "metadata": {},
   "outputs": [],
   "source": [
    "\n",
    "root = '/content/gdrive/My Drive/' # Don't change this\n",
    "data_dirname = 'plantvillage_dataset/color/' # Change as you like\n",
    "p = Path(root + data_dirname)\n",
    "p.mkdir(exist_ok=True) # should \"/content/gdrive/My Drive/data\""
   ]
  }
 ],
 "metadata": {
  "kernelspec": {
   "display_name": "Python 3.9.12 ('base')",
   "language": "python",
   "name": "python3"
  },
  "language_info": {
   "codemirror_mode": {
    "name": "ipython",
    "version": 3
   },
   "file_extension": ".py",
   "mimetype": "text/x-python",
   "name": "python",
   "nbconvert_exporter": "python",
   "pygments_lexer": "ipython3",
   "version": "3.9.12"
  },
  "orig_nbformat": 4,
  "vscode": {
   "interpreter": {
    "hash": "0e3a6a34bc42bcae3b020ac2cf6b1d35cfba37564a6a2e4a67facc18cb851ba8"
   }
  }
 },
 "nbformat": 4,
 "nbformat_minor": 2
}
