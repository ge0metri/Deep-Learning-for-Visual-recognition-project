{
 "cells": [
  {
   "cell_type": "code",
   "execution_count": 1,
   "metadata": {},
   "outputs": [],
   "source": [
    "# create a model that uses the fenchel-young loss and trains on 200 images \n",
    "# the images are permuted in 9 tiles and in every iteration a new permutation is generated.\n",
    "# we use a deep encoder with fixed parameters, adam optimizer, preprocessing before tiling  \n",
    "\n",
    "import tensorflow as tf"
   ]
  },
  {
   "cell_type": "code",
   "execution_count": 2,
   "metadata": {},
   "outputs": [
    {
     "name": "stdout",
     "output_type": "stream",
     "text": [
      "Apple___Apple_scab Apple___healthy Apple___Black_rot Apple___Cedar_apple_rust 200\n"
     ]
    }
   ],
   "source": [
    "import platform\n",
    "import cv2\n",
    "import numpy as np\n",
    "import os\n",
    "from pathlib import Path\n",
    "\n",
    "number_of_images = 200\n",
    "\n",
    "root = os.getcwd() # Don't change this\n",
    "data_dirname = '/data_test/plantvillage/' # Change as you like \n",
    "p = Path(root + data_dirname)\n",
    "p.mkdir(exist_ok=True) \n",
    "if platform.system()=='Darwin':\n",
    "  root = os.getcwd() # Don't change this\n",
    "  data_dirname = '/data_test/plantvillage/' # Change as you like \n",
    "  p = Path(root + data_dirname)\n",
    "  p.mkdir(exist_ok=True) \n",
    "else:\n",
    "  p = Path(\n",
    "    \"C:/Users/mwels/Documents/Uni/11. Semester/Deep learning in visual recognition/Plant_leave_diseases_dataset_without_augmentation\"\n",
    "    )\n",
    "  p.mkdir(exist_ok=True)\n",
    "\n",
    "\n",
    "classes = [\n",
    "  'Apple___Apple_scab',\n",
    "  'Apple___healthy',\n",
    "  'Apple___Black_rot',\n",
    "  'Apple___Cedar_apple_rust'\n",
    "  ]\n",
    "\n",
    "if \"all\" in classes:\n",
    "  classes = os.listdir(p)\n",
    "\n",
    "for c in classes:\n",
    "  print(c,end=\" \")\n",
    "  filelist = [x for x in (p/c).iterdir() if x.is_file()]\n",
    "  for f in filelist:\n",
    "    img = cv2.imread(str(f))\n",
    "    if img is None:\n",
    "      print(f'Failed to open {f}. Deleting file')\n",
    "      os.remove(str(f))\n",
    "\n",
    "\n",
    "filelist = filelist[:number_of_images]\n",
    "print(len(filelist))"
   ]
  },
  {
   "cell_type": "code",
   "execution_count": 3,
   "metadata": {},
   "outputs": [
    {
     "data": {
      "text/plain": [
       "200"
      ]
     },
     "execution_count": 3,
     "metadata": {},
     "output_type": "execute_result"
    }
   ],
   "source": [
    "len(filelist)"
   ]
  },
  {
   "cell_type": "code",
   "execution_count": 4,
   "metadata": {},
   "outputs": [
    {
     "name": "stdout",
     "output_type": "stream",
     "text": [
      "WARNING:tensorflow:`input_shape` is undefined or non-square, or `rows` is not in [128, 160, 192, 224]. Weights for input shape (224, 224) will be loaded as the default.\n"
     ]
    }
   ],
   "source": [
    "tilex = 3\n",
    "number_of_tiles = tilex**2\n",
    "tile_size = 255//tilex\n",
    "\n",
    "os.environ['TF_CPP_MIN_LOG_LEVEL'] = '2'\n",
    "from keras.applications.mobilenet import MobileNet\n",
    "from keras.applications.mobilenet import preprocess_input\n",
    "\n",
    "conv_base = MobileNet(weights='imagenet',\n",
    "                      include_top=False,\n",
    "                      input_shape=(tile_size, tile_size, 3))"
   ]
  },
  {
   "cell_type": "code",
   "execution_count": 5,
   "metadata": {},
   "outputs": [],
   "source": [
    "from keras.layers import Dense, Concatenate, Input, Flatten, Lambda \n",
    "from keras.models import Model\n",
    "import os\n",
    "\n",
    "\n",
    "tiles = Input((number_of_tiles,tile_size,tile_size,3))\n",
    "layers = {}\n",
    "embedds = {}\n",
    "\n",
    "shared_conv = conv_base \n",
    "\n",
    "for i in range(number_of_tiles):\n",
    "    layers[f'tile{i}'] = Lambda(lambda x: x[:,i,:,:,:])(tiles)\n",
    "\n",
    "    layers[f'deep_layers{i}'] = shared_conv(layers[f'tile{i}'])\n",
    "    embedds[f'embedd{i}'] = Flatten()(layers[f'deep_layers{i}'])\n",
    "\n",
    "concatonation = Concatenate(axis=1)(list(embedds.values()))\n",
    "\n",
    "out = Dense(number_of_tiles*10, activation=\"relu\", kernel_initializer='he_normal')(concatonation)\n",
    "out = Dense(number_of_tiles, kernel_initializer='he_normal')(out)\n",
    "out = Flatten()(out)\n",
    "\n",
    "model = Model(inputs=tiles, outputs=out)"
   ]
  },
  {
   "cell_type": "code",
   "execution_count": 6,
   "metadata": {},
   "outputs": [
    {
     "name": "stdout",
     "output_type": "stream",
     "text": [
      "You must install pydot (`pip install pydot`) and install graphviz (see instructions at https://graphviz.gitlab.io/download/) for plot_model to work.\n"
     ]
    }
   ],
   "source": [
    "tf.keras.utils.plot_model(model, \n",
    "    show_shapes=True)"
   ]
  },
  {
   "cell_type": "code",
   "execution_count": 7,
   "metadata": {},
   "outputs": [
    {
     "name": "stdout",
     "output_type": "stream",
     "text": [
      "Model: \"model\"\n",
      "__________________________________________________________________________________________________\n",
      " Layer (type)                   Output Shape         Param #     Connected to                     \n",
      "==================================================================================================\n",
      " input_2 (InputLayer)           [(None, 9, 85, 85,   0           []                               \n",
      "                                3)]                                                               \n",
      "                                                                                                  \n",
      " lambda (Lambda)                (None, 85, 85, 3)    0           ['input_2[0][0]']                \n",
      "                                                                                                  \n",
      " lambda_1 (Lambda)              (None, 85, 85, 3)    0           ['input_2[0][0]']                \n",
      "                                                                                                  \n",
      " lambda_2 (Lambda)              (None, 85, 85, 3)    0           ['input_2[0][0]']                \n",
      "                                                                                                  \n",
      " lambda_3 (Lambda)              (None, 85, 85, 3)    0           ['input_2[0][0]']                \n",
      "                                                                                                  \n",
      " lambda_4 (Lambda)              (None, 85, 85, 3)    0           ['input_2[0][0]']                \n",
      "                                                                                                  \n",
      " lambda_5 (Lambda)              (None, 85, 85, 3)    0           ['input_2[0][0]']                \n",
      "                                                                                                  \n",
      " lambda_6 (Lambda)              (None, 85, 85, 3)    0           ['input_2[0][0]']                \n",
      "                                                                                                  \n",
      " lambda_7 (Lambda)              (None, 85, 85, 3)    0           ['input_2[0][0]']                \n",
      "                                                                                                  \n",
      " lambda_8 (Lambda)              (None, 85, 85, 3)    0           ['input_2[0][0]']                \n",
      "                                                                                                  \n",
      " mobilenet_1.00_224 (Functional  (None, 2, 2, 1024)  3228864     ['lambda[0][0]',                 \n",
      " )                                                                'lambda_1[0][0]',               \n",
      "                                                                  'lambda_2[0][0]',               \n",
      "                                                                  'lambda_3[0][0]',               \n",
      "                                                                  'lambda_4[0][0]',               \n",
      "                                                                  'lambda_5[0][0]',               \n",
      "                                                                  'lambda_6[0][0]',               \n",
      "                                                                  'lambda_7[0][0]',               \n",
      "                                                                  'lambda_8[0][0]']               \n",
      "                                                                                                  \n",
      " flatten (Flatten)              (None, 4096)         0           ['mobilenet_1.00_224[0][0]']     \n",
      "                                                                                                  \n",
      " flatten_1 (Flatten)            (None, 4096)         0           ['mobilenet_1.00_224[1][0]']     \n",
      "                                                                                                  \n",
      " flatten_2 (Flatten)            (None, 4096)         0           ['mobilenet_1.00_224[2][0]']     \n",
      "                                                                                                  \n",
      " flatten_3 (Flatten)            (None, 4096)         0           ['mobilenet_1.00_224[3][0]']     \n",
      "                                                                                                  \n",
      " flatten_4 (Flatten)            (None, 4096)         0           ['mobilenet_1.00_224[4][0]']     \n",
      "                                                                                                  \n",
      " flatten_5 (Flatten)            (None, 4096)         0           ['mobilenet_1.00_224[5][0]']     \n",
      "                                                                                                  \n",
      " flatten_6 (Flatten)            (None, 4096)         0           ['mobilenet_1.00_224[6][0]']     \n",
      "                                                                                                  \n",
      " flatten_7 (Flatten)            (None, 4096)         0           ['mobilenet_1.00_224[7][0]']     \n",
      "                                                                                                  \n",
      " flatten_8 (Flatten)            (None, 4096)         0           ['mobilenet_1.00_224[8][0]']     \n",
      "                                                                                                  \n",
      " concatenate (Concatenate)      (None, 36864)        0           ['flatten[0][0]',                \n",
      "                                                                  'flatten_1[0][0]',              \n",
      "                                                                  'flatten_2[0][0]',              \n",
      "                                                                  'flatten_3[0][0]',              \n",
      "                                                                  'flatten_4[0][0]',              \n",
      "                                                                  'flatten_5[0][0]',              \n",
      "                                                                  'flatten_6[0][0]',              \n",
      "                                                                  'flatten_7[0][0]',              \n",
      "                                                                  'flatten_8[0][0]']              \n",
      "                                                                                                  \n",
      " dense (Dense)                  (None, 90)           3317850     ['concatenate[0][0]']            \n",
      "                                                                                                  \n",
      " dense_1 (Dense)                (None, 9)            819         ['dense[0][0]']                  \n",
      "                                                                                                  \n",
      " flatten_9 (Flatten)            (None, 9)            0           ['dense_1[0][0]']                \n",
      "                                                                                                  \n",
      "==================================================================================================\n",
      "Total params: 6,547,533\n",
      "Trainable params: 6,525,645\n",
      "Non-trainable params: 21,888\n",
      "__________________________________________________________________________________________________\n"
     ]
    }
   ],
   "source": [
    "model.summary()"
   ]
  },
  {
   "cell_type": "code",
   "execution_count": 8,
   "metadata": {},
   "outputs": [
    {
     "name": "stdout",
     "output_type": "stream",
     "text": [
      "Total number of layers is 24\n",
      "Number of pretrained base layers is 86\n"
     ]
    }
   ],
   "source": [
    "total_num_layers = len(model.layers)\n",
    "num_base_layers = len(conv_base.layers)\n",
    "print(f\"Total number of layers is {total_num_layers}\")\n",
    "print(f\"Number of pretrained base layers is {num_base_layers}\")\n",
    "\n",
    "for layer in model.layers[:num_base_layers]:\n",
    "    layer.trainable=False\n",
    "for layer in model.layers[num_base_layers:]:\n",
    "    layer.trainable=True"
   ]
  },
  {
   "cell_type": "code",
   "execution_count": 9,
   "metadata": {},
   "outputs": [],
   "source": [
    "sys.path.append('src')"
   ]
  },
  {
   "cell_type": "code",
   "execution_count": 12,
   "metadata": {},
   "outputs": [],
   "source": [
    "from keras import optimizers\n",
    "from sklearn.model_selection import train_test_split\n",
    "from src.PermOneHotDataGen import *\n",
    "from src.model_tools import *\n",
    "\n",
    "x_train, x_test = train_test_split(filelist)\n",
    "\n",
    "train_generator = PermOneHotDataGen(x_train,\n",
    "                                    preprocess_func=preprocess_input,\n",
    "                                    batch_size=16,\n",
    "                                    tilenumberx=tilex, \n",
    "                                    shuffle_permutations=True)\n",
    "\n",
    "validation_generator = PermOneHotDataGen(x_test,\n",
    "                                        preprocess_func=preprocess_input,\n",
    "                                        batch_size=16,\n",
    "                                        tilenumberx=tilex,\n",
    "                                        shuffle_permutations=True)\n",
    "\n",
    "\n",
    "optimizer = tf.keras.optimizers.Adam(\n",
    "    learning_rate=0.001,\n",
    "    beta_1=0.9,\n",
    "    beta_2=0.999,\n",
    "    epsilon=1e-07,\n",
    "    amsgrad=False,\n",
    "    name='Adam',\n",
    ")\n",
    "\n",
    "\n",
    "model.compile(\n",
    "    optimizer=optimizer,\n",
    "    loss=RankingLoss(),\n",
    "    metrics=[ProjectedRanksAccuracy(), PartialRanksAccuracy()])"
   ]
  },
  {
   "cell_type": "code",
   "execution_count": 13,
   "metadata": {},
   "outputs": [
    {
     "ename": "NotImplementedError",
     "evalue": "",
     "output_type": "error",
     "traceback": [
      "\u001b[1;31m---------------------------------------------------------------------------\u001b[0m",
      "\u001b[1;31mNotImplementedError\u001b[0m                       Traceback (most recent call last)",
      "\u001b[1;32mc:\\Users\\mwels\\Documents\\Uni\\11. Semester\\Deep learning in visual recognition\\20221026\\myawesome\\NotebookVier.ipynb Zelle 11\u001b[0m in \u001b[0;36m<cell line: 1>\u001b[1;34m()\u001b[0m\n\u001b[1;32m----> <a href='vscode-notebook-cell:/c%3A/Users/mwels/Documents/Uni/11.%20Semester/Deep%20learning%20in%20visual%20recognition/20221026/myawesome/NotebookVier.ipynb#X13sZmlsZQ%3D%3D?line=0'>1</a>\u001b[0m history \u001b[39m=\u001b[39m model\u001b[39m.\u001b[39;49mfit(train_generator,epochs\u001b[39m=\u001b[39;49m\u001b[39m5\u001b[39;49m)\n",
      "File \u001b[1;32mc:\\Users\\mwels\\anaconda3\\lib\\site-packages\\keras\\utils\\traceback_utils.py:70\u001b[0m, in \u001b[0;36mfilter_traceback.<locals>.error_handler\u001b[1;34m(*args, **kwargs)\u001b[0m\n\u001b[0;32m     67\u001b[0m     filtered_tb \u001b[39m=\u001b[39m _process_traceback_frames(e\u001b[39m.\u001b[39m__traceback__)\n\u001b[0;32m     68\u001b[0m     \u001b[39m# To get the full stack trace, call:\u001b[39;00m\n\u001b[0;32m     69\u001b[0m     \u001b[39m# `tf.debugging.disable_traceback_filtering()`\u001b[39;00m\n\u001b[1;32m---> 70\u001b[0m     \u001b[39mraise\u001b[39;00m e\u001b[39m.\u001b[39mwith_traceback(filtered_tb) \u001b[39mfrom\u001b[39;00m \u001b[39mNone\u001b[39m\n\u001b[0;32m     71\u001b[0m \u001b[39mfinally\u001b[39;00m:\n\u001b[0;32m     72\u001b[0m     \u001b[39mdel\u001b[39;00m filtered_tb\n",
      "File \u001b[1;32mc:\\Users\\mwels\\anaconda3\\lib\\site-packages\\keras\\preprocessing\\image.py:178\u001b[0m, in \u001b[0;36mIterator._get_batches_of_transformed_samples\u001b[1;34m(self, index_array)\u001b[0m\n\u001b[0;32m    170\u001b[0m \u001b[39mdef\u001b[39;00m \u001b[39m_get_batches_of_transformed_samples\u001b[39m(\u001b[39mself\u001b[39m, index_array):\n\u001b[0;32m    171\u001b[0m     \u001b[39m\"\"\"Gets a batch of transformed samples.\u001b[39;00m\n\u001b[0;32m    172\u001b[0m \n\u001b[0;32m    173\u001b[0m \u001b[39m    Args:\u001b[39;00m\n\u001b[1;32m   (...)\u001b[0m\n\u001b[0;32m    176\u001b[0m \u001b[39m        A batch of transformed samples.\u001b[39;00m\n\u001b[0;32m    177\u001b[0m \u001b[39m    \"\"\"\u001b[39;00m\n\u001b[1;32m--> 178\u001b[0m     \u001b[39mraise\u001b[39;00m \u001b[39mNotImplementedError\u001b[39;00m\n",
      "\u001b[1;31mNotImplementedError\u001b[0m: "
     ]
    }
   ],
   "source": [
    "history = model.fit(train_generator,epochs=5)"
   ]
  },
  {
   "cell_type": "code",
   "execution_count": null,
   "metadata": {},
   "outputs": [],
   "source": []
  }
 ],
 "metadata": {
  "kernelspec": {
   "display_name": "Python 3.9.12 ('base')",
   "language": "python",
   "name": "python3"
  },
  "language_info": {
   "codemirror_mode": {
    "name": "ipython",
    "version": 3
   },
   "file_extension": ".py",
   "mimetype": "text/x-python",
   "name": "python",
   "nbconvert_exporter": "python",
   "pygments_lexer": "ipython3",
   "version": "3.9.12"
  },
  "orig_nbformat": 4,
  "vscode": {
   "interpreter": {
    "hash": "0e3a6a34bc42bcae3b020ac2cf6b1d35cfba37564a6a2e4a67facc18cb851ba8"
   }
  }
 },
 "nbformat": 4,
 "nbformat_minor": 2
}
