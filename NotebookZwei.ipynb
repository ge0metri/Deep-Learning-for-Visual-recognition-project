{
 "cells": [
  {
   "cell_type": "code",
   "execution_count": null,
   "metadata": {},
   "outputs": [],
   "source": []
  },
  {
   "cell_type": "code",
   "execution_count": 26,
   "metadata": {},
   "outputs": [
    {
     "name": "stdout",
     "output_type": "stream",
     "text": [
      "Apple___Apple_scab Apple___Black_rot Apple___Cedar_apple_rust Apple___healthy Background_without_leaves Blueberry___healthy Cherry___healthy Cherry___Powdery_mildew Corn___Cercospora_leaf_spot Gray_leaf_spot Corn___Common_rust Corn___healthy Corn___Northern_Leaf_Blight Grape___Black_rot Grape___Esca_(Black_Measles) Grape___healthy Grape___Leaf_blight_(Isariopsis_Leaf_Spot) Orange___Haunglongbing_(Citrus_greening) Peach___Bacterial_spot Peach___healthy Pepper,_bell___Bacterial_spot Pepper,_bell___healthy Potato___Early_blight Potato___healthy Potato___Late_blight Raspberry___healthy Soybean___healthy Squash___Powdery_mildew Strawberry___healthy Strawberry___Leaf_scorch Tomato___Bacterial_spot Tomato___Early_blight Tomato___healthy Tomato___Late_blight Tomato___Leaf_Mold Tomato___Septoria_leaf_spot Tomato___Spider_mites Two-spotted_spider_mite Tomato___Target_Spot Tomato___Tomato_mosaic_virus Tomato___Tomato_Yellow_Leaf_Curl_Virus 5357\n"
     ]
    }
   ],
   "source": [
    "# filelist\n",
    "import cv2\n",
    "import numpy as np\n",
    "import os\n",
    "from pathlib import Path\n",
    "# root = os.getcwd() # Don't change this\n",
    "# data_dirname = '/data_test/plantvillage/' # Change as you like \n",
    "# p = Path(root + data_dirname)\n",
    "# p.mkdir(exist_ok=True) \n",
    "\n",
    "p = Path(\"C:/Users/mwels/Documents/Uni/11. Semester/Deep learning in visual recognition/Plant_leave_diseases_dataset_without_augmentation\")\n",
    "p.mkdir(exist_ok=True)\n",
    "\n",
    "\n",
    "classes = [\n",
    "  'Apple___Apple_scab',\n",
    "  'Apple___healthy',\n",
    "  'Apple___Black_rot',\n",
    "  'Apple___Cedar_apple_rust',\n",
    "  \"all\"\n",
    "  ]\n",
    "\n",
    "if \"all\" in classes:\n",
    "  classes = os.listdir(p)\n",
    "\n",
    "for c in classes:\n",
    "  print(c,end=\" \")\n",
    "  filelist = [x for x in (p/c).iterdir() if x.is_file()]\n",
    "  for f in filelist:\n",
    "    img = cv2.imread(str(f))\n",
    "    if img is None:\n",
    "      print(f'Failed to open {f}. Deleting file')\n",
    "      os.remove(str(f))\n",
    "# Pick first image of first class (i.e., cat)\n",
    "# filelist = [x for x in (p/classes[0]).iterdir() if x.is_file()]\n",
    "print(len(filelist))"
   ]
  },
  {
   "cell_type": "code",
   "execution_count": 6,
   "metadata": {},
   "outputs": [
    {
     "name": "stdout",
     "output_type": "stream",
     "text": [
      "WARNING:tensorflow:`input_shape` is undefined or non-square, or `rows` is not in [128, 160, 192, 224]. Weights for input shape (224, 224) will be loaded as the default.\n"
     ]
    },
    {
     "data": {
      "text/plain": [
       "keras.engine.functional.Functional"
      ]
     },
     "execution_count": 6,
     "metadata": {},
     "output_type": "execute_result"
    }
   ],
   "source": [
    "from keras.applications.mobilenet import MobileNet\n",
    "from keras.applications.mobilenet import preprocess_input\n",
    "\n",
    "conv_base = MobileNet(weights='imagenet',\n",
    "                      include_top=False,\n",
    "                      input_shape=(40, 40, 3))\n",
    "type(conv_base)"
   ]
  },
  {
   "cell_type": "code",
   "execution_count": 31,
   "metadata": {},
   "outputs": [],
   "source": [
    "from keras.layers import Dense,GlobalAveragePooling2D, Concatenate, Input, Flatten, Lambda\n",
    "from keras.models import Model\n",
    "# from src.fast_soft_sort.tf_ops import soft_rank\n",
    "\n",
    "\n",
    "number_of_tiles = 9\n",
    "image_net = conv_base\n",
    "tiles = Input((9,40,40,3))\n",
    "tile1 = Lambda(lambda x: x[:,0,:,:,:])(tiles) \n",
    "tile2 = Lambda(lambda x: x[:,1,:,:,:])(tiles) \n",
    "tile3 = Lambda(lambda x: x[:,2,:,:,:])(tiles) \n",
    "tile4 = Lambda(lambda x: x[:,3,:,:,:])(tiles) \n",
    "tile5 = Lambda(lambda x: x[:,4,:,:,:])(tiles) \n",
    "tile6 = Lambda(lambda x: x[:,5,:,:,:])(tiles) \n",
    "tile7 = Lambda(lambda x: x[:,6,:,:,:])(tiles) \n",
    "tile8 = Lambda(lambda x: x[:,7,:,:,:])(tiles) \n",
    "tile9 = Lambda(lambda x: x[:,8,:,:,:])(tiles) \n",
    "tile1 = preprocess_input(tile1) \n",
    "tile2 = preprocess_input(tile2) \n",
    "tile3 = preprocess_input(tile3) \n",
    "tile4 = preprocess_input(tile4) \n",
    "tile5 = preprocess_input(tile5) \n",
    "tile6 = preprocess_input(tile6) \n",
    "tile7 = preprocess_input(tile7) \n",
    "tile8 = preprocess_input(tile8) \n",
    "tile9 = preprocess_input(tile9) \n",
    "\n",
    "embedding_of_tile1 = image_net(tile1) \n",
    "embedding_of_tile2 = image_net(tile2)\n",
    "embedding_of_tile3 = image_net(tile3) \n",
    "embedding_of_tile4 = image_net(tile4) \n",
    "embedding_of_tile5 = image_net(tile5) \n",
    "embedding_of_tile6 = image_net(tile6)\n",
    "embedding_of_tile7 = image_net(tile7)\n",
    "embedding_of_tile8 = image_net(tile8)\n",
    "embedding_of_tile9 = image_net(tile9)\n",
    "\n",
    "concatonation = Concatenate(axis=3)([\n",
    "    embedding_of_tile1,\n",
    "    embedding_of_tile2,\n",
    "    embedding_of_tile3,\n",
    "    embedding_of_tile4,\n",
    "    embedding_of_tile5,\n",
    "    embedding_of_tile6,\n",
    "    embedding_of_tile7,\n",
    "    embedding_of_tile8,\n",
    "    embedding_of_tile9\n",
    "    ])\n",
    "\n",
    "out = Dense(500, activation=\"relu\")(concatonation)\n",
    "# out = Dense(500, activation=\"relu\")(out)\n",
    "out = Dense(9)(out)\n",
    "out = Flatten()(out)\n",
    "# out = Lambda(lambda x: soft_rank(x, regularization_strength=0.5))(out)\n",
    "\n",
    "model = Model(inputs=tiles, outputs=out)"
   ]
  },
  {
   "cell_type": "code",
   "execution_count": 32,
   "metadata": {},
   "outputs": [
    {
     "name": "stdout",
     "output_type": "stream",
     "text": [
      "Model: \"model_2\"\n",
      "__________________________________________________________________________________________________\n",
      " Layer (type)                   Output Shape         Param #     Connected to                     \n",
      "==================================================================================================\n",
      " input_5 (InputLayer)           [(None, 9, 40, 40,   0           []                               \n",
      "                                3)]                                                               \n",
      "                                                                                                  \n",
      " lambda_27 (Lambda)             (None, 40, 40, 3)    0           ['input_5[0][0]']                \n",
      "                                                                                                  \n",
      " lambda_28 (Lambda)             (None, 40, 40, 3)    0           ['input_5[0][0]']                \n",
      "                                                                                                  \n",
      " lambda_29 (Lambda)             (None, 40, 40, 3)    0           ['input_5[0][0]']                \n",
      "                                                                                                  \n",
      " lambda_30 (Lambda)             (None, 40, 40, 3)    0           ['input_5[0][0]']                \n",
      "                                                                                                  \n",
      " lambda_31 (Lambda)             (None, 40, 40, 3)    0           ['input_5[0][0]']                \n",
      "                                                                                                  \n",
      " lambda_32 (Lambda)             (None, 40, 40, 3)    0           ['input_5[0][0]']                \n",
      "                                                                                                  \n",
      " lambda_33 (Lambda)             (None, 40, 40, 3)    0           ['input_5[0][0]']                \n",
      "                                                                                                  \n",
      " lambda_34 (Lambda)             (None, 40, 40, 3)    0           ['input_5[0][0]']                \n",
      "                                                                                                  \n",
      " lambda_35 (Lambda)             (None, 40, 40, 3)    0           ['input_5[0][0]']                \n",
      "                                                                                                  \n",
      " tf.math.truediv (TFOpLambda)   (None, 40, 40, 3)    0           ['lambda_27[0][0]']              \n",
      "                                                                                                  \n",
      " tf.math.truediv_1 (TFOpLambda)  (None, 40, 40, 3)   0           ['lambda_28[0][0]']              \n",
      "                                                                                                  \n",
      " tf.math.truediv_2 (TFOpLambda)  (None, 40, 40, 3)   0           ['lambda_29[0][0]']              \n",
      "                                                                                                  \n",
      " tf.math.truediv_3 (TFOpLambda)  (None, 40, 40, 3)   0           ['lambda_30[0][0]']              \n",
      "                                                                                                  \n",
      " tf.math.truediv_4 (TFOpLambda)  (None, 40, 40, 3)   0           ['lambda_31[0][0]']              \n",
      "                                                                                                  \n",
      " tf.math.truediv_5 (TFOpLambda)  (None, 40, 40, 3)   0           ['lambda_32[0][0]']              \n",
      "                                                                                                  \n",
      " tf.math.truediv_6 (TFOpLambda)  (None, 40, 40, 3)   0           ['lambda_33[0][0]']              \n",
      "                                                                                                  \n",
      " tf.math.truediv_7 (TFOpLambda)  (None, 40, 40, 3)   0           ['lambda_34[0][0]']              \n",
      "                                                                                                  \n",
      " tf.math.truediv_8 (TFOpLambda)  (None, 40, 40, 3)   0           ['lambda_35[0][0]']              \n",
      "                                                                                                  \n",
      " tf.math.subtract (TFOpLambda)  (None, 40, 40, 3)    0           ['tf.math.truediv[0][0]']        \n",
      "                                                                                                  \n",
      " tf.math.subtract_1 (TFOpLambda  (None, 40, 40, 3)   0           ['tf.math.truediv_1[0][0]']      \n",
      " )                                                                                                \n",
      "                                                                                                  \n",
      " tf.math.subtract_2 (TFOpLambda  (None, 40, 40, 3)   0           ['tf.math.truediv_2[0][0]']      \n",
      " )                                                                                                \n",
      "                                                                                                  \n",
      " tf.math.subtract_3 (TFOpLambda  (None, 40, 40, 3)   0           ['tf.math.truediv_3[0][0]']      \n",
      " )                                                                                                \n",
      "                                                                                                  \n",
      " tf.math.subtract_4 (TFOpLambda  (None, 40, 40, 3)   0           ['tf.math.truediv_4[0][0]']      \n",
      " )                                                                                                \n",
      "                                                                                                  \n",
      " tf.math.subtract_5 (TFOpLambda  (None, 40, 40, 3)   0           ['tf.math.truediv_5[0][0]']      \n",
      " )                                                                                                \n",
      "                                                                                                  \n",
      " tf.math.subtract_6 (TFOpLambda  (None, 40, 40, 3)   0           ['tf.math.truediv_6[0][0]']      \n",
      " )                                                                                                \n",
      "                                                                                                  \n",
      " tf.math.subtract_7 (TFOpLambda  (None, 40, 40, 3)   0           ['tf.math.truediv_7[0][0]']      \n",
      " )                                                                                                \n",
      "                                                                                                  \n",
      " tf.math.subtract_8 (TFOpLambda  (None, 40, 40, 3)   0           ['tf.math.truediv_8[0][0]']      \n",
      " )                                                                                                \n",
      "                                                                                                  \n",
      " mobilenet_1.00_224 (Functional  (None, 1, 1, 1024)  3228864     ['tf.math.subtract[0][0]',       \n",
      " )                                                                'tf.math.subtract_1[0][0]',     \n",
      "                                                                  'tf.math.subtract_2[0][0]',     \n",
      "                                                                  'tf.math.subtract_3[0][0]',     \n",
      "                                                                  'tf.math.subtract_4[0][0]',     \n",
      "                                                                  'tf.math.subtract_5[0][0]',     \n",
      "                                                                  'tf.math.subtract_6[0][0]',     \n",
      "                                                                  'tf.math.subtract_7[0][0]',     \n",
      "                                                                  'tf.math.subtract_8[0][0]']     \n",
      "                                                                                                  \n",
      " concatenate_3 (Concatenate)    (None, 1, 1, 9216)   0           ['mobilenet_1.00_224[27][0]',    \n",
      "                                                                  'mobilenet_1.00_224[28][0]',    \n",
      "                                                                  'mobilenet_1.00_224[29][0]',    \n",
      "                                                                  'mobilenet_1.00_224[30][0]',    \n",
      "                                                                  'mobilenet_1.00_224[31][0]',    \n",
      "                                                                  'mobilenet_1.00_224[32][0]',    \n",
      "                                                                  'mobilenet_1.00_224[33][0]',    \n",
      "                                                                  'mobilenet_1.00_224[34][0]',    \n",
      "                                                                  'mobilenet_1.00_224[35][0]']    \n",
      "                                                                                                  \n",
      " dense_6 (Dense)                (None, 1, 1, 500)    4608500     ['concatenate_3[0][0]']          \n",
      "                                                                                                  \n",
      " dense_7 (Dense)                (None, 1, 1, 9)      4509        ['dense_6[0][0]']                \n",
      "                                                                                                  \n",
      " flatten_2 (Flatten)            (None, 9)            0           ['dense_7[0][0]']                \n",
      "                                                                                                  \n",
      "==================================================================================================\n",
      "Total params: 7,841,873\n",
      "Trainable params: 4,613,009\n",
      "Non-trainable params: 3,228,864\n",
      "__________________________________________________________________________________________________\n"
     ]
    }
   ],
   "source": [
    "model.summary()"
   ]
  },
  {
   "cell_type": "code",
   "execution_count": 33,
   "metadata": {},
   "outputs": [
    {
     "name": "stdout",
     "output_type": "stream",
     "text": [
      "Total number of layers is 33\n",
      "Number of pretrained base layers is 86\n"
     ]
    }
   ],
   "source": [
    "total_num_layers = len(model.layers)\n",
    "num_base_layers = len(conv_base.layers)\n",
    "print(f\"Total number of layers is {total_num_layers}\")\n",
    "print(f\"Number of pretrained base layers is {num_base_layers}\")\n",
    "\n",
    "for layer in model.layers[:num_base_layers]:\n",
    "    layer.trainable=False\n",
    "for layer in model.layers[num_base_layers:]:\n",
    "    layer.trainable=True"
   ]
  },
  {
   "cell_type": "code",
   "execution_count": 34,
   "metadata": {},
   "outputs": [
    {
     "name": "stderr",
     "output_type": "stream",
     "text": [
      "c:\\Users\\mwels\\anaconda3\\lib\\site-packages\\keras\\optimizers\\optimizer_v2\\gradient_descent.py:111: UserWarning: The `lr` argument is deprecated, use `learning_rate` instead.\n",
      "  super().__init__(name, **kwargs)\n",
      "C:\\Users\\mwels\\AppData\\Local\\Temp\\ipykernel_17304\\2570840799.py:23: UserWarning: `Model.fit_generator` is deprecated and will be removed in a future version. Please use `Model.fit`, which supports generators.\n",
      "  history = model.fit_generator(generator=train_generator,\n"
     ]
    },
    {
     "name": "stdout",
     "output_type": "stream",
     "text": [
      "Epoch 1/15\n",
      "62/62 [==============================] - 76s 845ms/step - loss: 22.6201 - accuracy: 0.1136 - val_loss: 22.5961 - val_accuracy: 0.1039\n",
      "Epoch 2/15\n",
      "62/62 [==============================] - 42s 673ms/step - loss: 22.6138 - accuracy: 0.1197 - val_loss: 22.6326 - val_accuracy: 0.1039\n",
      "Epoch 3/15\n",
      "62/62 [==============================] - 43s 699ms/step - loss: 22.6215 - accuracy: 0.1040 - val_loss: 22.6446 - val_accuracy: 0.1320\n",
      "Epoch 4/15\n",
      "62/62 [==============================] - 45s 722ms/step - loss: 22.6192 - accuracy: 0.1146 - val_loss: 22.6255 - val_accuracy: 0.1148\n",
      "Epoch 5/15\n",
      "62/62 [==============================] - 44s 714ms/step - loss: 22.6257 - accuracy: 0.1126 - val_loss: 22.6242 - val_accuracy: 0.1187\n",
      "Epoch 6/15\n",
      "62/62 [==============================] - 44s 706ms/step - loss: 22.6339 - accuracy: 0.1070 - val_loss: 22.6262 - val_accuracy: 0.1094\n",
      "Epoch 7/15\n",
      "62/62 [==============================] - 46s 745ms/step - loss: 22.6313 - accuracy: 0.1133 - val_loss: 22.6172 - val_accuracy: 0.1219\n",
      "Epoch 8/15\n",
      "62/62 [==============================] - 49s 798ms/step - loss: 22.6190 - accuracy: 0.1156 - val_loss: 22.6240 - val_accuracy: 0.1078\n",
      "Epoch 9/15\n",
      "62/62 [==============================] - 50s 805ms/step - loss: 22.6212 - accuracy: 0.1037 - val_loss: 22.6003 - val_accuracy: 0.1203\n",
      "Epoch 10/15\n",
      "62/62 [==============================] - 46s 743ms/step - loss: 22.6225 - accuracy: 0.1052 - val_loss: 22.6163 - val_accuracy: 0.0938\n",
      "Epoch 11/15\n",
      "62/62 [==============================] - 45s 718ms/step - loss: 22.6185 - accuracy: 0.1257 - val_loss: 22.6155 - val_accuracy: 0.1164\n",
      "Epoch 12/15\n",
      "62/62 [==============================] - 44s 711ms/step - loss: 22.6189 - accuracy: 0.1154 - val_loss: 22.6300 - val_accuracy: 0.1172\n",
      "Epoch 13/15\n",
      "62/62 [==============================] - 44s 713ms/step - loss: 22.6222 - accuracy: 0.1027 - val_loss: 22.6415 - val_accuracy: 0.0992\n",
      "Epoch 14/15\n",
      "62/62 [==============================] - 44s 713ms/step - loss: 22.6165 - accuracy: 0.1174 - val_loss: 22.6138 - val_accuracy: 0.0992\n",
      "Epoch 15/15\n",
      "62/62 [==============================] - 44s 719ms/step - loss: 22.6287 - accuracy: 0.1088 - val_loss: 22.6398 - val_accuracy: 0.0984\n"
     ]
    }
   ],
   "source": [
    "from keras import optimizers\n",
    "from sklearn.model_selection import train_test_split\n",
    "from src.permutation_tools import *\n",
    "import tensorflow_ranking as tfr \n",
    "\n",
    "x_train, x_test = train_test_split(filelist)\n",
    "\n",
    "train_generator = PermNetDataGenerator(x_train)\n",
    "validation_generator = PermNetDataGenerator(x_test)\n",
    "\n",
    "\n",
    "# Set up optimizer\n",
    "sgd_optimizer = optimizers.SGD(lr=0.0001, decay=1e-6, momentum=0.9, nesterov=True)\n",
    "\n",
    "# Compile model \n",
    "# softmax_loss = tfr.keras.losses.get(tfr.keras.losses.RankingLossKey.MEAN_SQUARED_LOSS)\n",
    "model.compile(optimizer=sgd_optimizer,loss=tfr.keras.losses.MeanSquaredLoss(), metrics=['accuracy'])\n",
    "\n",
    "step_size_train = train_generator.n//train_generator.batch_size # Number of mini-batches per epoch (training)\n",
    "step_size_val = validation_generator.n//validation_generator.batch_size # Number of mini-batches per epoch (validation)\n",
    "\n",
    "# Train model for 15 epochs\n",
    "history = model.fit_generator(generator=train_generator,\n",
    "                   validation_data=validation_generator,\n",
    "                   validation_steps=step_size_val,\n",
    "                   steps_per_epoch=step_size_train,\n",
    "                   epochs=15)"
   ]
  },
  {
   "cell_type": "code",
   "execution_count": 27,
   "metadata": {},
   "outputs": [
    {
     "name": "stderr",
     "output_type": "stream",
     "text": [
      "C:\\Users\\mwels\\AppData\\Local\\Temp\\ipykernel_17304\\2510898503.py:23: UserWarning: `Model.fit_generator` is deprecated and will be removed in a future version. Please use `Model.fit`, which supports generators.\n",
      "  history = model.fit_generator(generator=train_generator,\n"
     ]
    },
    {
     "name": "stdout",
     "output_type": "stream",
     "text": [
      "Epoch 1/15\n",
      "62/62 [==============================] - 62s 684ms/step - loss: 23.0641 - accuracy: 0.1197 - val_loss: 23.0591 - val_accuracy: 0.1406\n",
      "Epoch 2/15\n",
      "62/62 [==============================] - 35s 565ms/step - loss: 23.0629 - accuracy: 0.1100 - val_loss: 23.1608 - val_accuracy: 0.0938\n",
      "Epoch 3/15\n",
      "62/62 [==============================] - 41s 664ms/step - loss: 23.0643 - accuracy: 0.1219 - val_loss: 23.1812 - val_accuracy: 0.1094\n",
      "Epoch 4/15\n",
      "62/62 [==============================] - 33s 535ms/step - loss: 23.0678 - accuracy: 0.1156 - val_loss: 23.1533 - val_accuracy: 0.1250\n",
      "Epoch 5/15\n",
      "62/62 [==============================] - 33s 524ms/step - loss: 23.0601 - accuracy: 0.1247 - val_loss: 23.1022 - val_accuracy: 0.1562\n",
      "Epoch 6/15\n",
      "62/62 [==============================] - 33s 525ms/step - loss: 23.0682 - accuracy: 0.1184 - val_loss: 23.2164 - val_accuracy: 0.1250\n",
      "Epoch 7/15\n",
      "62/62 [==============================] - 32s 521ms/step - loss: 23.0615 - accuracy: 0.1283 - val_loss: 23.1429 - val_accuracy: 0.1094\n",
      "Epoch 8/15\n",
      "62/62 [==============================] - 32s 522ms/step - loss: 23.0646 - accuracy: 0.1095 - val_loss: 23.0860 - val_accuracy: 0.1250\n",
      "Epoch 9/15\n",
      "62/62 [==============================] - 35s 561ms/step - loss: 23.0624 - accuracy: 0.1174 - val_loss: 23.1530 - val_accuracy: 0.1406\n",
      "Epoch 10/15\n",
      "62/62 [==============================] - 35s 566ms/step - loss: 23.0633 - accuracy: 0.1141 - val_loss: 23.2178 - val_accuracy: 0.1094\n",
      "Epoch 11/15\n",
      "62/62 [==============================] - 34s 550ms/step - loss: 23.0606 - accuracy: 0.1222 - val_loss: 23.1247 - val_accuracy: 0.1406\n",
      "Epoch 12/15\n",
      "62/62 [==============================] - 36s 582ms/step - loss: 23.0745 - accuracy: 0.1078 - val_loss: 23.1140 - val_accuracy: 0.0625\n",
      "Epoch 13/15\n",
      "62/62 [==============================] - 38s 602ms/step - loss: 23.0573 - accuracy: 0.1166 - val_loss: 23.1015 - val_accuracy: 0.1406\n",
      "Epoch 14/15\n",
      "62/62 [==============================] - 41s 662ms/step - loss: 23.0599 - accuracy: 0.1164 - val_loss: 23.1289 - val_accuracy: 0.1406\n",
      "Epoch 15/15\n",
      "62/62 [==============================] - 34s 543ms/step - loss: 23.0702 - accuracy: 0.1197 - val_loss: 23.1244 - val_accuracy: 0.1250\n"
     ]
    }
   ],
   "source": [
    "from keras import optimizers\n",
    "from sklearn.model_selection import train_test_split\n",
    "from src.permutation_tools import *\n",
    "import tensorflow_ranking as tfr \n",
    "\n",
    "x_train, x_test = train_test_split(filelist)\n",
    "\n",
    "train_generator = PermNetDataGenerator(x_train)\n",
    "validation_generator = PermNetDataGenerator(x_test)\n",
    "\n",
    "\n",
    "# Set up optimizer\n",
    "sgd_optimizer = optimizers.SGD(lr=0.0001, decay=1e-6, momentum=0.9, nesterov=True)\n",
    "\n",
    "# Compile model \n",
    "# softmax_loss = tfr.keras.losses.get(tfr.keras.losses.RankingLossKey.MEAN_SQUARED_LOSS)\n",
    "model.compile(optimizer=sgd_optimizer,loss=tfr.keras.losses.MeanSquaredLoss(), metrics=['accuracy'])\n",
    "\n",
    "step_size_train = train_generator.n//train_generator.batch_size # Number of mini-batches per epoch (training)\n",
    "step_size_val = validation_generator.n//validation_generator.batch_size # Number of mini-batches per epoch (validation)\n",
    "\n",
    "# Train model for 15 epochs\n",
    "history = model.fit_generator(generator=train_generator,\n",
    "                   validation_data=validation_generator,\n",
    "                   validation_steps=step_size_val,\n",
    "                   steps_per_epoch=step_size_train,\n",
    "                   epochs=15)\n"
   ]
  },
  {
   "cell_type": "code",
   "execution_count": 12,
   "metadata": {},
   "outputs": [],
   "source": [
    "newDataGen = PermNetDataGenerator(input=x_ddtrain, batch_size=4, preprocess_func=preprocess_input)"
   ]
  },
  {
   "cell_type": "code",
   "execution_count": 22,
   "metadata": {},
   "outputs": [],
   "source": [
    "X, y = next(newDataGen)"
   ]
  },
  {
   "cell_type": "code",
   "execution_count": 23,
   "metadata": {},
   "outputs": [
    {
     "name": "stderr",
     "output_type": "stream",
     "text": [
      "Clipping input data to the valid range for imshow with RGB data ([0..1] for floats or [0..255] for integers).\n",
      "Clipping input data to the valid range for imshow with RGB data ([0..1] for floats or [0..255] for integers).\n",
      "Clipping input data to the valid range for imshow with RGB data ([0..1] for floats or [0..255] for integers).\n",
      "Clipping input data to the valid range for imshow with RGB data ([0..1] for floats or [0..255] for integers).\n",
      "Clipping input data to the valid range for imshow with RGB data ([0..1] for floats or [0..255] for integers).\n",
      "Clipping input data to the valid range for imshow with RGB data ([0..1] for floats or [0..255] for integers).\n"
     ]
    },
    {
     "data": {
      "image/png": "[encoded data removed]",
      "text/plain": [
       "<Figure size 216x216 with 9 Axes>"
      ]
     },
     "metadata": {},
     "output_type": "display_data"
    }
   ],
   "source": [
    "showPermImg(X[0],y[0])"
   ]
  },
  {
   "cell_type": "code",
   "execution_count": 40,
   "metadata": {},
   "outputs": [
    {
     "name": "stdout",
     "output_type": "stream",
     "text": [
      "1/1 [==============================] - 8s 8s/step\n"
     ]
    },
    {
     "data": {
      "text/plain": [
       "array([[-0.06172042, -0.12826368,  0.19051225, -0.33770105,  0.22509225,\n",
       "         0.32174426, -0.19905451,  0.24421588, -0.1501222 ]],\n",
       "      dtype=float32)"
      ]
     },
     "execution_count": 40,
     "metadata": {},
     "output_type": "execute_result"
    }
   ],
   "source": [
    "test_gen = PermNetDataGenerator(x_test) # never do this\n",
    "X, y = next(test_gen)\n",
    "model.predict(np.expand_dims(X[0], axis=0))"
   ]
  },
  {
   "cell_type": "code",
   "execution_count": null,
   "metadata": {},
   "outputs": [],
   "source": []
  },
  {
   "cell_type": "code",
   "execution_count": null,
   "metadata": {},
   "outputs": [],
   "source": []
  }
 ],
 "metadata": {
  "kernelspec": {
   "display_name": "Python 3.9.12 ('base')",
   "language": "python",
   "name": "python3"
  },
  "language_info": {
   "codemirror_mode": {
    "name": "ipython",
    "version": 3
   },
   "file_extension": ".py",
   "mimetype": "text/x-python",
   "name": "python",
   "nbconvert_exporter": "python",
   "pygments_lexer": "ipython3",
   "version": "3.9.12"
  },
  "orig_nbformat": 4,
  "vscode": {
   "interpreter": {
    "hash": "0e3a6a34bc42bcae3b020ac2cf6b1d35cfba37564a6a2e4a67facc18cb851ba8"
   }
  }
 },
 "nbformat": 4,
 "nbformat_minor": 2
}
