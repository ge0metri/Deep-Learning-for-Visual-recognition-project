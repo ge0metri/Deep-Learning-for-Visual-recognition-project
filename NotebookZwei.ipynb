{
 "cells": [
  {
   "cell_type": "code",
   "execution_count": null,
   "metadata": {},
   "outputs": [],
   "source": []
  },
  {
   "cell_type": "code",
   "execution_count": 12,
   "metadata": {},
   "outputs": [
    {
     "name": "stdout",
     "output_type": "stream",
     "text": [
      "Apple___Apple_scab\n",
      "Apple___healthy\n"
     ]
    }
   ],
   "source": [
    "# filelist\n",
    "import cv2\n",
    "import numpy as np\n",
    "import os\n",
    "from pathlib import Path\n",
    "root = os.getcwd() # Don't change this\n",
    "data_dirname = '/data_test/plantvillage/' # Change as you like \n",
    "p = Path(root + data_dirname)\n",
    "p.mkdir(exist_ok=True) # should \"/content/gdrive/My Drive/data\"\n",
    "\n",
    "classes = ['Apple___Apple_scab','Apple___healthy']\n",
    "for c in classes:\n",
    "  print(c)\n",
    "  filelist = [x for x in (p/c).iterdir() if x.is_file()]\n",
    "  for f in filelist:\n",
    "    img = cv2.imread(str(f))\n",
    "    if img is None:\n",
    "      print(f'Failed to open {f}. Deleting file')\n",
    "      os.remove(str(f))\n",
    "# Pick first image of first class (i.e., cat)\n",
    "filelist = [x for x in (p/classes[0]).iterdir() if x.is_file()]"
   ]
  },
  {
   "cell_type": "code",
   "execution_count": 13,
   "metadata": {},
   "outputs": [
    {
     "name": "stdout",
     "output_type": "stream",
     "text": [
      "WARNING:tensorflow:`input_shape` is undefined or non-square, or `rows` is not in [128, 160, 192, 224]. Weights for input shape (224, 224) will be loaded as the default.\n"
     ]
    },
    {
     "data": {
      "text/plain": [
       "keras.engine.functional.Functional"
      ]
     },
     "execution_count": 13,
     "metadata": {},
     "output_type": "execute_result"
    }
   ],
   "source": [
    "from keras.applications.mobilenet import MobileNet\n",
    "conv_base = MobileNet(weights='imagenet',\n",
    "                      include_top=False,\n",
    "                      input_shape=(40, 40, 3))\n",
    "type(conv_base)"
   ]
  },
  {
   "cell_type": "code",
   "execution_count": 45,
   "metadata": {},
   "outputs": [],
   "source": [
    "from keras.layers import Dense,GlobalAveragePooling2D, Concatenate, Input, Flatten, Lambda\n",
    "from keras.models import Model\n",
    "\n",
    "\n",
    "number_of_tiles = 9\n",
    "image_net = conv_base\n",
    "tiles = Input((9,40,40,3))\n",
    "tile1 = Lambda(lambda x: x[:,0,:,:,:])(tiles) \n",
    "tile2 = Lambda(lambda x: x[:,1,:,:,:])(tiles) \n",
    "tile3 = Lambda(lambda x: x[:,2,:,:,:])(tiles) \n",
    "tile4 = Lambda(lambda x: x[:,3,:,:,:])(tiles) \n",
    "tile5 = Lambda(lambda x: x[:,4,:,:,:])(tiles) \n",
    "tile6 = Lambda(lambda x: x[:,5,:,:,:])(tiles) \n",
    "tile7 = Lambda(lambda x: x[:,6,:,:,:])(tiles) \n",
    "tile8 = Lambda(lambda x: x[:,7,:,:,:])(tiles) \n",
    "tile9 = Lambda(lambda x: x[:,8,:,:,:])(tiles) \n",
    "\n",
    "embedding_of_tile1 = image_net(tile1) \n",
    "embedding_of_tile2 = image_net(tile2)\n",
    "embedding_of_tile3 = image_net(tile3) \n",
    "embedding_of_tile4 = image_net(tile4) \n",
    "embedding_of_tile5 = image_net(tile5) \n",
    "embedding_of_tile6 = image_net(tile6)\n",
    "embedding_of_tile7 = image_net(tile7)\n",
    "embedding_of_tile8 = image_net(tile8)\n",
    "embedding_of_tile9 = image_net(tile9)\n",
    "\n",
    "dense = Dense(512,)\n",
    "concatonation = Concatenate(axis=3)([\n",
    "    embedding_of_tile1,\n",
    "    embedding_of_tile2,\n",
    "    embedding_of_tile3,\n",
    "    embedding_of_tile4,\n",
    "    embedding_of_tile5,\n",
    "    embedding_of_tile6,\n",
    "    embedding_of_tile7,\n",
    "    embedding_of_tile8,\n",
    "    embedding_of_tile9\n",
    "    ])\n",
    "\n",
    "out = Dense(500, activation=\"relu\")(concatonation)\n",
    "# out = Dense(500, activation=\"relu\")(out)\n",
    "out = Dense(9)(out)\n",
    "out = Flatten()(out)\n",
    "\n",
    "# Specify model\n",
    "model = Model(inputs=tiles, outputs=out)"
   ]
  },
  {
   "cell_type": "code",
   "execution_count": 46,
   "metadata": {},
   "outputs": [
    {
     "name": "stdout",
     "output_type": "stream",
     "text": [
      "Model: \"model_10\"\n",
      "__________________________________________________________________________________________________\n",
      " Layer (type)                   Output Shape         Param #     Connected to                     \n",
      "==================================================================================================\n",
      " input_12 (InputLayer)          [(None, 9, 40, 40,   0           []                               \n",
      "                                3)]                                                               \n",
      "                                                                                                  \n",
      " lambda_90 (Lambda)             (None, 40, 40, 3)    0           ['input_12[0][0]']               \n",
      "                                                                                                  \n",
      " lambda_91 (Lambda)             (None, 40, 40, 3)    0           ['input_12[0][0]']               \n",
      "                                                                                                  \n",
      " lambda_92 (Lambda)             (None, 40, 40, 3)    0           ['input_12[0][0]']               \n",
      "                                                                                                  \n",
      " lambda_93 (Lambda)             (None, 40, 40, 3)    0           ['input_12[0][0]']               \n",
      "                                                                                                  \n",
      " lambda_94 (Lambda)             (None, 40, 40, 3)    0           ['input_12[0][0]']               \n",
      "                                                                                                  \n",
      " lambda_95 (Lambda)             (None, 40, 40, 3)    0           ['input_12[0][0]']               \n",
      "                                                                                                  \n",
      " lambda_96 (Lambda)             (None, 40, 40, 3)    0           ['input_12[0][0]']               \n",
      "                                                                                                  \n",
      " lambda_97 (Lambda)             (None, 40, 40, 3)    0           ['input_12[0][0]']               \n",
      "                                                                                                  \n",
      " lambda_98 (Lambda)             (None, 40, 40, 3)    0           ['input_12[0][0]']               \n",
      "                                                                                                  \n",
      " mobilenet_1.00_224 (Functional  (None, 1, 1, 1024)  3228864     ['lambda_90[0][0]',              \n",
      " )                                                                'lambda_91[0][0]',              \n",
      "                                                                  'lambda_92[0][0]',              \n",
      "                                                                  'lambda_93[0][0]',              \n",
      "                                                                  'lambda_94[0][0]',              \n",
      "                                                                  'lambda_95[0][0]',              \n",
      "                                                                  'lambda_96[0][0]',              \n",
      "                                                                  'lambda_97[0][0]',              \n",
      "                                                                  'lambda_98[0][0]']              \n",
      "                                                                                                  \n",
      " concatenate_10 (Concatenate)   (None, 1, 1, 9216)   0           ['mobilenet_1.00_224[90][0]',    \n",
      "                                                                  'mobilenet_1.00_224[91][0]',    \n",
      "                                                                  'mobilenet_1.00_224[92][0]',    \n",
      "                                                                  'mobilenet_1.00_224[93][0]',    \n",
      "                                                                  'mobilenet_1.00_224[94][0]',    \n",
      "                                                                  'mobilenet_1.00_224[95][0]',    \n",
      "                                                                  'mobilenet_1.00_224[96][0]',    \n",
      "                                                                  'mobilenet_1.00_224[97][0]',    \n",
      "                                                                  'mobilenet_1.00_224[98][0]']    \n",
      "                                                                                                  \n",
      " dense_22 (Dense)               (None, 1, 1, 500)    4608500     ['concatenate_10[0][0]']         \n",
      "                                                                                                  \n",
      " dense_23 (Dense)               (None, 1, 1, 9)      4509        ['dense_22[0][0]']               \n",
      "                                                                                                  \n",
      " flatten_9 (Flatten)            (None, 9)            0           ['dense_23[0][0]']               \n",
      "                                                                                                  \n",
      "==================================================================================================\n",
      "Total params: 7,841,873\n",
      "Trainable params: 4,613,009\n",
      "Non-trainable params: 3,228,864\n",
      "__________________________________________________________________________________________________\n"
     ]
    }
   ],
   "source": [
    "model.summary()"
   ]
  },
  {
   "cell_type": "code",
   "execution_count": 47,
   "metadata": {},
   "outputs": [
    {
     "name": "stdout",
     "output_type": "stream",
     "text": [
      "Total number of layers is 15\n",
      "Number of pretrained base layers is 86\n"
     ]
    }
   ],
   "source": [
    "total_num_layers = len(model.layers)\n",
    "num_base_layers = len(conv_base.layers)\n",
    "print(f\"Total number of layers is {total_num_layers}\")\n",
    "print(f\"Number of pretrained base layers is {num_base_layers}\")\n",
    "\n",
    "for layer in model.layers[:num_base_layers]:\n",
    "    layer.trainable=False\n",
    "for layer in model.layers[num_base_layers:]:\n",
    "    layer.trainable=True"
   ]
  },
  {
   "cell_type": "code",
   "execution_count": null,
   "metadata": {},
   "outputs": [],
   "source": []
  },
  {
   "cell_type": "code",
   "execution_count": 55,
   "metadata": {},
   "outputs": [
    {
     "name": "stdout",
     "output_type": "stream",
     "text": [
      "Epoch 1/5\n"
     ]
    },
    {
     "name": "stderr",
     "output_type": "stream",
     "text": [
      "c:\\Users\\mwels\\anaconda3\\envs\\visual\\lib\\site-packages\\keras\\optimizers\\optimizer_v2\\gradient_descent.py:111: UserWarning: The `lr` argument is deprecated, use `learning_rate` instead.\n",
      "  super().__init__(name, **kwargs)\n",
      "C:\\Users\\mwels\\AppData\\Local\\Temp\\ipykernel_2476\\3698496170.py:24: UserWarning: `Model.fit_generator` is deprecated and will be removed in a future version. Please use `Model.fit`, which supports generators.\n",
      "  history = model.fit_generator(generator=train_generator,\n"
     ]
    },
    {
     "name": "stdout",
     "output_type": "stream",
     "text": [
      "29/29 [==============================] - 24s 434ms/step - loss: 22.4445 - accuracy: 0.1031 - val_loss: 22.4486 - val_accuracy: 0.1319\n",
      "Epoch 2/5\n",
      "29/29 [==============================] - 8s 277ms/step - loss: 22.4495 - accuracy: 0.1053 - val_loss: 22.5083 - val_accuracy: 0.1042\n",
      "Epoch 3/5\n",
      "29/29 [==============================] - 9s 305ms/step - loss: 22.4279 - accuracy: 0.1096 - val_loss: 22.4252 - val_accuracy: 0.1319\n",
      "Epoch 4/5\n",
      "29/29 [==============================] - 8s 261ms/step - loss: 22.4603 - accuracy: 0.1228 - val_loss: 22.4661 - val_accuracy: 0.1111\n",
      "Epoch 5/5\n",
      "29/29 [==============================] - 9s 311ms/step - loss: 22.4604 - accuracy: 0.1031 - val_loss: 22.4511 - val_accuracy: 0.1181\n"
     ]
    }
   ],
   "source": [
    "\n",
    "from wsgiref.simple_server import software_version\n",
    "from keras import optimizers\n",
    "from sklearn.model_selection import train_test_split\n",
    "from src.permutation_tools import *\n",
    "import tensorflow_ranking as tfr \n",
    "\n",
    "x_train, x_test = train_test_split(filelist)\n",
    "\n",
    "train_generator = PermNetDataGenerator(x_train, 16)\n",
    "validation_generator = PermNetDataGenerator(x_test, 16)\n",
    "\n",
    "\n",
    "# Set up optimizer\n",
    "sgd_optimizer = optimizers.SGD(lr=0.001, decay=1e-6, momentum=0.9, nesterov=True)\n",
    "\n",
    "# Compile model - make it trainable\n",
    "softmax_loss = tfr.keras.losses.get(tfr.keras.losses.RankingLossKey.MEAN_SQUARED_LOSS)\n",
    "model.compile(optimizer=sgd_optimizer,loss=\"MSE\", metrics=['accuracy'])\n",
    "\n",
    "step_size_train = train_generator.n//train_generator.batch_size # Number of mini-batches per epoch (training)\n",
    "step_size_val = validation_generator.n//validation_generator.batch_size # Number of mini-batches per epoch (validation)\n",
    "\n",
    "# Train model for 10 epochs\n",
    "history = model.fit_generator(generator=train_generator,\n",
    "                   validation_data=validation_generator,\n",
    "                   validation_steps=step_size_val,\n",
    "                   steps_per_epoch=step_size_train,\n",
    "                   epochs=5)"
   ]
  },
  {
   "cell_type": "code",
   "execution_count": 51,
   "metadata": {},
   "outputs": [
    {
     "ename": "ImportError",
     "evalue": "cannot import name 'soft_rank' from 'src.tensorflow_ranking' (c:\\Users\\mwels\\Documents\\Uni\\11. Semester\\Deep learning in visual recognition\\myawesome\\src\\tensorflow_ranking\\__init__.py)",
     "output_type": "error",
     "traceback": [
      "\u001b[1;31m---------------------------------------------------------------------------\u001b[0m",
      "\u001b[1;31mImportError\u001b[0m                               Traceback (most recent call last)",
      "Cell \u001b[1;32mIn [51], line 1\u001b[0m\n\u001b[1;32m----> 1\u001b[0m \u001b[38;5;28;01mfrom\u001b[39;00m \u001b[38;5;21;01msrc\u001b[39;00m\u001b[38;5;21;01m.\u001b[39;00m\u001b[38;5;21;01mtensorflow_ranking\u001b[39;00m \u001b[38;5;28;01mimport\u001b[39;00m soft_rank\n",
      "\u001b[1;31mImportError\u001b[0m: cannot import name 'soft_rank' from 'src.tensorflow_ranking' (c:\\Users\\mwels\\Documents\\Uni\\11. Semester\\Deep learning in visual recognition\\myawesome\\src\\tensorflow_ranking\\__init__.py)"
     ]
    }
   ],
   "source": []
  }
 ],
 "metadata": {
  "kernelspec": {
   "display_name": "Python 3.10.4 ('visual')",
   "language": "python",
   "name": "python3"
  },
  "language_info": {
   "codemirror_mode": {
    "name": "ipython",
    "version": 3
   },
   "file_extension": ".py",
   "mimetype": "text/x-python",
   "name": "python",
   "nbconvert_exporter": "python",
   "pygments_lexer": "ipython3",
   "version": "3.10.4"
  },
  "orig_nbformat": 4,
  "vscode": {
   "interpreter": {
    "hash": "64359c18de76bb4d3549d4f42519674c79e06566b1fdefa8f4209e868c4da35b"
   }
  }
 },
 "nbformat": 4,
 "nbformat_minor": 2
}
