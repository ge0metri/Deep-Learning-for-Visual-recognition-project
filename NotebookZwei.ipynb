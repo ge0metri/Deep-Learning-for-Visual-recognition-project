{
 "cells": [
  {
   "cell_type": "code",
   "execution_count": 71,
   "metadata": {},
   "outputs": [],
   "source": []
  },
  {
   "cell_type": "code",
   "execution_count": 72,
   "metadata": {},
   "outputs": [
    {
     "name": "stdout",
     "output_type": "stream",
     "text": [
      "Apple___Apple_scab Apple___Black_rot Apple___Cedar_apple_rust Apple___healthy Background_without_leaves Blueberry___healthy Cherry___healthy Cherry___Powdery_mildew Corn___Cercospora_leaf_spot Gray_leaf_spot Corn___Common_rust Corn___healthy Corn___Northern_Leaf_Blight Grape___Black_rot Grape___Esca_(Black_Measles) Grape___healthy Grape___Leaf_blight_(Isariopsis_Leaf_Spot) Orange___Haunglongbing_(Citrus_greening) Peach___Bacterial_spot Peach___healthy Pepper,_bell___Bacterial_spot Pepper,_bell___healthy Potato___Early_blight Potato___healthy Potato___Late_blight Raspberry___healthy Soybean___healthy Squash___Powdery_mildew Strawberry___healthy Strawberry___Leaf_scorch Tomato___Bacterial_spot Tomato___Early_blight Tomato___healthy Tomato___Late_blight Tomato___Leaf_Mold Tomato___Septoria_leaf_spot Tomato___Spider_mites Two-spotted_spider_mite Tomato___Target_Spot Tomato___Tomato_mosaic_virus Tomato___Tomato_Yellow_Leaf_Curl_Virus 5357\n"
     ]
    }
   ],
   "source": [
    "# filelist\n",
    "import cv2\n",
    "import numpy as np\n",
    "import os\n",
    "from pathlib import Path\n",
    "# root = os.getcwd() # Don't change this\n",
    "# data_dirname = '/data_test/plantvillage/' # Change as you like \n",
    "# p = Path(root + data_dirname)\n",
    "# p.mkdir(exist_ok=True) \n",
    "\n",
    "p = Path(\"C:/Users/mwels/Documents/Uni/11. Semester/Deep learning in visual recognition/Plant_leave_diseases_dataset_without_augmentation\")\n",
    "p.mkdir(exist_ok=True)\n",
    "\n",
    "\n",
    "classes = [\n",
    "  'Apple___Apple_scab',\n",
    "  'Apple___healthy',\n",
    "  'Apple___Black_rot',\n",
    "  'Apple___Cedar_apple_rust',\n",
    "  \"all\"]\n",
    "\n",
    "if \"all\" in classes:\n",
    "  classes = os.listdir(p)\n",
    "\n",
    "for c in classes:\n",
    "  print(c,end=\" \")\n",
    "  filelist = [x for x in (p/c).iterdir() if x.is_file()]\n",
    "  for f in filelist:\n",
    "    img = cv2.imread(str(f))\n",
    "    if img is None:\n",
    "      print(f'Failed to open {f}. Deleting file')\n",
    "      os.remove(str(f))\n",
    "# Pick first image of first class (i.e., cat)\n",
    "# filelist = [x for x in (p/classes[0]).iterdir() if x.is_file()]\n",
    "print(len(filelist))"
   ]
  },
  {
   "cell_type": "code",
   "execution_count": 41,
   "metadata": {},
   "outputs": [
    {
     "name": "stdout",
     "output_type": "stream",
     "text": [
      "WARNING:tensorflow:`input_shape` is undefined or non-square, or `rows` is not in [128, 160, 192, 224]. Weights for input shape (224, 224) will be loaded as the default.\n"
     ]
    },
    {
     "data": {
      "text/plain": [
       "keras.engine.functional.Functional"
      ]
     },
     "execution_count": 41,
     "metadata": {},
     "output_type": "execute_result"
    }
   ],
   "source": [
    "from keras.applications.mobilenet import MobileNet\n",
    "conv_base = MobileNet(weights='imagenet',\n",
    "                      include_top=False,\n",
    "                      input_shape=(40, 40, 3))\n",
    "type(conv_base)"
   ]
  },
  {
   "cell_type": "code",
   "execution_count": 74,
   "metadata": {},
   "outputs": [],
   "source": [
    "from keras.layers import Dense,GlobalAveragePooling2D, Concatenate, Input, Flatten, Lambda\n",
    "from keras.models import Model\n",
    "# from src.fast_soft_sort.tf_ops import soft_rank\n",
    "\n",
    "\n",
    "number_of_tiles = 9\n",
    "image_net = conv_base\n",
    "tiles = Input((9,40,40,3))\n",
    "tile1 = Lambda(lambda x: x[:,0,:,:,:])(tiles) \n",
    "tile2 = Lambda(lambda x: x[:,1,:,:,:])(tiles) \n",
    "tile3 = Lambda(lambda x: x[:,2,:,:,:])(tiles) \n",
    "tile4 = Lambda(lambda x: x[:,3,:,:,:])(tiles) \n",
    "tile5 = Lambda(lambda x: x[:,4,:,:,:])(tiles) \n",
    "tile6 = Lambda(lambda x: x[:,5,:,:,:])(tiles) \n",
    "tile7 = Lambda(lambda x: x[:,6,:,:,:])(tiles) \n",
    "tile8 = Lambda(lambda x: x[:,7,:,:,:])(tiles) \n",
    "tile9 = Lambda(lambda x: x[:,8,:,:,:])(tiles) \n",
    "\n",
    "embedding_of_tile1 = image_net(tile1) \n",
    "embedding_of_tile2 = image_net(tile2)\n",
    "embedding_of_tile3 = image_net(tile3) \n",
    "embedding_of_tile4 = image_net(tile4) \n",
    "embedding_of_tile5 = image_net(tile5) \n",
    "embedding_of_tile6 = image_net(tile6)\n",
    "embedding_of_tile7 = image_net(tile7)\n",
    "embedding_of_tile8 = image_net(tile8)\n",
    "embedding_of_tile9 = image_net(tile9)\n",
    "\n",
    "concatonation = Concatenate(axis=3)([\n",
    "    embedding_of_tile1,\n",
    "    embedding_of_tile2,\n",
    "    embedding_of_tile3,\n",
    "    embedding_of_tile4,\n",
    "    embedding_of_tile5,\n",
    "    embedding_of_tile6,\n",
    "    embedding_of_tile7,\n",
    "    embedding_of_tile8,\n",
    "    embedding_of_tile9\n",
    "    ])\n",
    "\n",
    "# out = Dense(500, activation=\"relu\")(concatonation)\n",
    "out = Dense(500, activation=\"relu\")(out)\n",
    "out = Dense(9)(out)\n",
    "out = Flatten()(out)\n",
    "# out = Lambda(lambda x: soft_rank(x, regularization_strength=0.5))(out)\n",
    "\n",
    "model = Model(inputs=tiles, outputs=out)"
   ]
  },
  {
   "cell_type": "code",
   "execution_count": 75,
   "metadata": {},
   "outputs": [
    {
     "name": "stdout",
     "output_type": "stream",
     "text": [
      "Model: \"model_3\"\n",
      "__________________________________________________________________________________________________\n",
      " Layer (type)                   Output Shape         Param #     Connected to                     \n",
      "==================================================================================================\n",
      " input_6 (InputLayer)           [(None, 9, 40, 40,   0           []                               \n",
      "                                3)]                                                               \n",
      "                                                                                                  \n",
      " lambda_27 (Lambda)             (None, 40, 40, 3)    0           ['input_6[0][0]']                \n",
      "                                                                                                  \n",
      " lambda_28 (Lambda)             (None, 40, 40, 3)    0           ['input_6[0][0]']                \n",
      "                                                                                                  \n",
      " lambda_29 (Lambda)             (None, 40, 40, 3)    0           ['input_6[0][0]']                \n",
      "                                                                                                  \n",
      " lambda_30 (Lambda)             (None, 40, 40, 3)    0           ['input_6[0][0]']                \n",
      "                                                                                                  \n",
      " lambda_31 (Lambda)             (None, 40, 40, 3)    0           ['input_6[0][0]']                \n",
      "                                                                                                  \n",
      " lambda_32 (Lambda)             (None, 40, 40, 3)    0           ['input_6[0][0]']                \n",
      "                                                                                                  \n",
      " lambda_33 (Lambda)             (None, 40, 40, 3)    0           ['input_6[0][0]']                \n",
      "                                                                                                  \n",
      " lambda_34 (Lambda)             (None, 40, 40, 3)    0           ['input_6[0][0]']                \n",
      "                                                                                                  \n",
      " lambda_35 (Lambda)             (None, 40, 40, 3)    0           ['input_6[0][0]']                \n",
      "                                                                                                  \n",
      " mobilenet_1.00_224 (Functional  (None, 1, 1, 1024)  3228864     ['lambda_27[0][0]',              \n",
      " )                                                                'lambda_28[0][0]',              \n",
      "                                                                  'lambda_29[0][0]',              \n",
      "                                                                  'lambda_30[0][0]',              \n",
      "                                                                  'lambda_31[0][0]',              \n",
      "                                                                  'lambda_32[0][0]',              \n",
      "                                                                  'lambda_33[0][0]',              \n",
      "                                                                  'lambda_34[0][0]',              \n",
      "                                                                  'lambda_35[0][0]']              \n",
      "                                                                                                  \n",
      " concatenate_3 (Concatenate)    (None, 1, 1, 9216)   0           ['mobilenet_1.00_224[9][0]',     \n",
      "                                                                  'mobilenet_1.00_224[10][0]',    \n",
      "                                                                  'mobilenet_1.00_224[11][0]',    \n",
      "                                                                  'mobilenet_1.00_224[12][0]',    \n",
      "                                                                  'mobilenet_1.00_224[13][0]',    \n",
      "                                                                  'mobilenet_1.00_224[14][0]',    \n",
      "                                                                  'mobilenet_1.00_224[15][0]',    \n",
      "                                                                  'mobilenet_1.00_224[16][0]',    \n",
      "                                                                  'mobilenet_1.00_224[17][0]']    \n",
      "                                                                                                  \n",
      " dense_6 (Dense)                (None, 1, 1, 500)    4608500     ['concatenate_3[0][0]']          \n",
      "                                                                                                  \n",
      " dense_7 (Dense)                (None, 1, 1, 500)    250500      ['dense_6[0][0]']                \n",
      "                                                                                                  \n",
      " dense_8 (Dense)                (None, 1, 1, 9)      4509        ['dense_7[0][0]']                \n",
      "                                                                                                  \n",
      " flatten_3 (Flatten)            (None, 9)            0           ['dense_8[0][0]']                \n",
      "                                                                                                  \n",
      "==================================================================================================\n",
      "Total params: 8,092,373\n",
      "Trainable params: 4,863,509\n",
      "Non-trainable params: 3,228,864\n",
      "__________________________________________________________________________________________________\n"
     ]
    }
   ],
   "source": [
    "model.summary()"
   ]
  },
  {
   "cell_type": "code",
   "execution_count": 44,
   "metadata": {},
   "outputs": [
    {
     "name": "stdout",
     "output_type": "stream",
     "text": [
      "Total number of layers is 15\n",
      "Number of pretrained base layers is 86\n"
     ]
    }
   ],
   "source": [
    "total_num_layers = len(model.layers)\n",
    "num_base_layers = len(conv_base.layers)\n",
    "print(f\"Total number of layers is {total_num_layers}\")\n",
    "print(f\"Number of pretrained base layers is {num_base_layers}\")\n",
    "\n",
    "for layer in model.layers[:num_base_layers]:\n",
    "    layer.trainable=False\n",
    "for layer in model.layers[num_base_layers:]:\n",
    "    layer.trainable=True"
   ]
  },
  {
   "cell_type": "code",
   "execution_count": 76,
   "metadata": {},
   "outputs": [
    {
     "name": "stderr",
     "output_type": "stream",
     "text": [
      "C:\\Users\\mwels\\AppData\\Local\\Temp\\ipykernel_6060\\2570840799.py:23: UserWarning: `Model.fit_generator` is deprecated and will be removed in a future version. Please use `Model.fit`, which supports generators.\n",
      "  history = model.fit_generator(generator=train_generator,\n"
     ]
    },
    {
     "name": "stdout",
     "output_type": "stream",
     "text": [
      "Epoch 1/15\n",
      "62/62 [==============================] - 77s 1s/step - loss: 15.7536 - accuracy: 0.1085 - val_loss: 7.5214 - val_accuracy: 0.1219\n",
      "Epoch 2/15\n",
      "62/62 [==============================] - 52s 836ms/step - loss: 7.0949 - accuracy: 0.1133 - val_loss: 7.0642 - val_accuracy: 0.1000\n",
      "Epoch 3/15\n",
      "62/62 [==============================] - 57s 924ms/step - loss: 7.0360 - accuracy: 0.1305 - val_loss: 7.0460 - val_accuracy: 0.1312\n",
      "Epoch 4/15\n",
      "62/62 [==============================] - 56s 906ms/step - loss: 7.0232 - accuracy: 0.1272 - val_loss: 7.0319 - val_accuracy: 0.1234\n",
      "Epoch 5/15\n",
      "62/62 [==============================] - 67s 1s/step - loss: 7.0164 - accuracy: 0.1361 - val_loss: 7.0270 - val_accuracy: 0.1281\n",
      "Epoch 6/15\n",
      "62/62 [==============================] - 58s 940ms/step - loss: 7.0019 - accuracy: 0.1235 - val_loss: 7.0151 - val_accuracy: 0.1477\n",
      "Epoch 7/15\n",
      "62/62 [==============================] - 61s 974ms/step - loss: 6.9893 - accuracy: 0.1374 - val_loss: 7.0070 - val_accuracy: 0.1383\n",
      "Epoch 8/15\n",
      "62/62 [==============================] - 53s 859ms/step - loss: 6.9766 - accuracy: 0.1343 - val_loss: 6.9952 - val_accuracy: 0.1484\n",
      "Epoch 9/15\n",
      "62/62 [==============================] - 53s 859ms/step - loss: 6.9697 - accuracy: 0.1310 - val_loss: 6.9807 - val_accuracy: 0.1586\n",
      "Epoch 10/15\n",
      "62/62 [==============================] - 56s 887ms/step - loss: 6.9625 - accuracy: 0.1399 - val_loss: 6.9678 - val_accuracy: 0.1484\n",
      "Epoch 11/15\n",
      "62/62 [==============================] - 53s 852ms/step - loss: 6.9448 - accuracy: 0.1444 - val_loss: 6.9593 - val_accuracy: 0.1633\n",
      "Epoch 12/15\n",
      "62/62 [==============================] - 50s 811ms/step - loss: 6.9352 - accuracy: 0.1465 - val_loss: 6.9592 - val_accuracy: 0.1617\n",
      "Epoch 13/15\n",
      "62/62 [==============================] - 58s 945ms/step - loss: 6.9213 - accuracy: 0.1482 - val_loss: 6.9402 - val_accuracy: 0.1656\n",
      "Epoch 14/15\n",
      "62/62 [==============================] - 65s 1s/step - loss: 6.9181 - accuracy: 0.1525 - val_loss: 6.9280 - val_accuracy: 0.1586\n",
      "Epoch 15/15\n",
      "62/62 [==============================] - 66s 1s/step - loss: 6.9076 - accuracy: 0.1520 - val_loss: 6.9245 - val_accuracy: 0.1617\n"
     ]
    }
   ],
   "source": [
    "from keras import optimizers\n",
    "from sklearn.model_selection import train_test_split\n",
    "from src.permutation_tools import *\n",
    "import tensorflow_ranking as tfr \n",
    "\n",
    "x_train, x_test = train_test_split(filelist)\n",
    "\n",
    "train_generator = PermNetDataGenerator(x_train)\n",
    "validation_generator = PermNetDataGenerator(x_test)\n",
    "\n",
    "\n",
    "# Set up optimizer\n",
    "sgd_optimizer = optimizers.SGD(lr=0.0001, decay=1e-6, momentum=0.9, nesterov=True)\n",
    "\n",
    "# Compile model \n",
    "# softmax_loss = tfr.keras.losses.get(tfr.keras.losses.RankingLossKey.MEAN_SQUARED_LOSS)\n",
    "model.compile(optimizer=sgd_optimizer,loss=tfr.keras.losses.MeanSquaredLoss(), metrics=['accuracy'])\n",
    "\n",
    "step_size_train = train_generator.n//train_generator.batch_size # Number of mini-batches per epoch (training)\n",
    "step_size_val = validation_generator.n//validation_generator.batch_size # Number of mini-batches per epoch (validation)\n",
    "\n",
    "# Train model for 15 epochs\n",
    "history = model.fit_generator(generator=train_generator,\n",
    "                   validation_data=validation_generator,\n",
    "                   validation_steps=step_size_val,\n",
    "                   steps_per_epoch=step_size_train,\n",
    "                   epochs=15)"
   ]
  },
  {
   "cell_type": "code",
   "execution_count": 55,
   "metadata": {},
   "outputs": [
    {
     "data": {
      "text/plain": [
       "4.6666665"
      ]
     },
     "execution_count": 55,
     "metadata": {},
     "output_type": "execute_result"
    }
   ],
   "source": [
    "\n"
   ]
  },
  {
   "cell_type": "code",
   "execution_count": null,
   "metadata": {},
   "outputs": [],
   "source": []
  },
  {
   "cell_type": "code",
   "execution_count": 49,
   "metadata": {},
   "outputs": [
    {
     "data": {
      "text/plain": [
       "630"
      ]
     },
     "execution_count": 49,
     "metadata": {},
     "output_type": "execute_result"
    }
   ],
   "source": [
    "len(filelist)"
   ]
  },
  {
   "cell_type": "code",
   "execution_count": null,
   "metadata": {},
   "outputs": [],
   "source": []
  }
 ],
 "metadata": {
  "kernelspec": {
   "display_name": "Python 3.9.12 ('base')",
   "language": "python",
   "name": "python3"
  },
  "language_info": {
   "codemirror_mode": {
    "name": "ipython",
    "version": 3
   },
   "file_extension": ".py",
   "mimetype": "text/x-python",
   "name": "python",
   "nbconvert_exporter": "python",
   "pygments_lexer": "ipython3",
   "version": "3.9.12"
  },
  "orig_nbformat": 4,
  "vscode": {
   "interpreter": {
    "hash": "0e3a6a34bc42bcae3b020ac2cf6b1d35cfba37564a6a2e4a67facc18cb851ba8"
   }
  }
 },
 "nbformat": 4,
 "nbformat_minor": 2
}
