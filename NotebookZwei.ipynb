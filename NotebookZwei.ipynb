{
 "cells": [
  {
   "cell_type": "code",
   "execution_count": null,
   "metadata": {},
   "outputs": [],
   "source": []
  },
  {
   "cell_type": "code",
   "execution_count": 1,
   "metadata": {},
   "outputs": [
    {
     "name": "stdout",
     "output_type": "stream",
     "text": [
      "Apple___Apple_scab\n",
      "Apple___healthy\n"
     ]
    }
   ],
   "source": [
    "# filelist\n",
    "import cv2\n",
    "import numpy as np\n",
    "import os\n",
    "from pathlib import Path\n",
    "root = os.getcwd() # Don't change this\n",
    "data_dirname = '/data_test/plantvillage/' # Change as you like \n",
    "p = Path(root + data_dirname)\n",
    "p.mkdir(exist_ok=True) # should \"/content/gdrive/My Drive/data\"\n",
    "\n",
    "classes = ['Apple___Apple_scab','Apple___healthy']\n",
    "for c in classes:\n",
    "  print(c)\n",
    "  filelist = [x for x in (p/c).iterdir() if x.is_file()]\n",
    "  for f in filelist:\n",
    "    img = cv2.imread(str(f))\n",
    "    if img is None:\n",
    "      print(f'Failed to open {f}. Deleting file')\n",
    "      os.remove(str(f))\n",
    "# Pick first image of first class (i.e., cat)\n",
    "filelist = [x for x in (p/classes[0]).iterdir() if x.is_file()]"
   ]
  },
  {
   "cell_type": "code",
   "execution_count": 2,
   "metadata": {},
   "outputs": [
    {
     "name": "stdout",
     "output_type": "stream",
     "text": [
      "WARNING:tensorflow:`input_shape` is undefined or non-square, or `rows` is not in [128, 160, 192, 224]. Weights for input shape (224, 224) will be loaded as the default.\n"
     ]
    },
    {
     "data": {
      "text/plain": [
       "keras.engine.functional.Functional"
      ]
     },
     "execution_count": 2,
     "metadata": {},
     "output_type": "execute_result"
    }
   ],
   "source": [
    "from keras.applications.mobilenet import MobileNet\n",
    "conv_base = MobileNet(weights='imagenet',\n",
    "                      include_top=False,\n",
    "                      input_shape=(40, 40, 3))\n",
    "type(conv_base)"
   ]
  },
  {
   "cell_type": "code",
   "execution_count": 10,
   "metadata": {},
   "outputs": [],
   "source": [
    "from keras.layers import Dense,GlobalAveragePooling2D, Concatenate, Input, Flatten, Lambda\n",
    "from keras.models import Model\n",
    "\n",
    "\n",
    "number_of_tiles = 9\n",
    "image_net = conv_base\n",
    "tiles = Input((9,40,40,3))\n",
    "tile1 = Lambda(lambda x: x[:,0,:,:,:])(tiles) \n",
    "tile2 = Lambda(lambda x: x[:,1,:,:,:])(tiles) \n",
    "tile3 = Lambda(lambda x: x[:,2,:,:,:])(tiles) \n",
    "tile4 = Lambda(lambda x: x[:,3,:,:,:])(tiles) \n",
    "tile5 = Lambda(lambda x: x[:,4,:,:,:])(tiles) \n",
    "tile6 = Lambda(lambda x: x[:,5,:,:,:])(tiles) \n",
    "tile7 = Lambda(lambda x: x[:,6,:,:,:])(tiles) \n",
    "tile8 = Lambda(lambda x: x[:,7,:,:,:])(tiles) \n",
    "tile9 = Lambda(lambda x: x[:,8,:,:,:])(tiles) \n",
    "\n",
    "embedding_of_tile1 = image_net(tile1) \n",
    "embedding_of_tile2 = image_net(tile2)\n",
    "embedding_of_tile3 = image_net(tile3) \n",
    "embedding_of_tile4 = image_net(tile4) \n",
    "embedding_of_tile5 = image_net(tile5) \n",
    "embedding_of_tile6 = image_net(tile6)\n",
    "embedding_of_tile7 = image_net(tile7)\n",
    "embedding_of_tile8 = image_net(tile8)\n",
    "embedding_of_tile9 = image_net(tile9)\n",
    "\n",
    "concatonation = Concatenate(axis=1)([\n",
    "    embedding_of_tile1,\n",
    "    embedding_of_tile2,\n",
    "    embedding_of_tile3,\n",
    "    embedding_of_tile4,\n",
    "    embedding_of_tile5,\n",
    "    embedding_of_tile6,\n",
    "    embedding_of_tile7,\n",
    "    embedding_of_tile8,\n",
    "    embedding_of_tile9\n",
    "    ])\n",
    "out = Dense(1, activation=\"tanh\")(concatonation)\n",
    "out = Flatten()(out)\n",
    "\n",
    "# Specify model\n",
    "model = Model(inputs=tiles, outputs=out)"
   ]
  },
  {
   "cell_type": "code",
   "execution_count": 11,
   "metadata": {},
   "outputs": [
    {
     "name": "stdout",
     "output_type": "stream",
     "text": [
      "Model: \"model_1\"\n",
      "__________________________________________________________________________________________________\n",
      " Layer (type)                   Output Shape         Param #     Connected to                     \n",
      "==================================================================================================\n",
      " input_6 (InputLayer)           [(None, 9, 40, 40,   0           []                               \n",
      "                                3)]                                                               \n",
      "                                                                                                  \n",
      " lambda_36 (Lambda)             (None, 40, 40, 3)    0           ['input_6[0][0]']                \n",
      "                                                                                                  \n",
      " lambda_37 (Lambda)             (None, 40, 40, 3)    0           ['input_6[0][0]']                \n",
      "                                                                                                  \n",
      " lambda_38 (Lambda)             (None, 40, 40, 3)    0           ['input_6[0][0]']                \n",
      "                                                                                                  \n",
      " lambda_39 (Lambda)             (None, 40, 40, 3)    0           ['input_6[0][0]']                \n",
      "                                                                                                  \n",
      " lambda_40 (Lambda)             (None, 40, 40, 3)    0           ['input_6[0][0]']                \n",
      "                                                                                                  \n",
      " lambda_41 (Lambda)             (None, 40, 40, 3)    0           ['input_6[0][0]']                \n",
      "                                                                                                  \n",
      " lambda_42 (Lambda)             (None, 40, 40, 3)    0           ['input_6[0][0]']                \n",
      "                                                                                                  \n",
      " lambda_43 (Lambda)             (None, 40, 40, 3)    0           ['input_6[0][0]']                \n",
      "                                                                                                  \n",
      " lambda_44 (Lambda)             (None, 40, 40, 3)    0           ['input_6[0][0]']                \n",
      "                                                                                                  \n",
      " mobilenet_1.00_224 (Functional  (None, 1, 1, 1024)  3228864     ['lambda_36[0][0]',              \n",
      " )                                                                'lambda_37[0][0]',              \n",
      "                                                                  'lambda_38[0][0]',              \n",
      "                                                                  'lambda_39[0][0]',              \n",
      "                                                                  'lambda_40[0][0]',              \n",
      "                                                                  'lambda_41[0][0]',              \n",
      "                                                                  'lambda_42[0][0]',              \n",
      "                                                                  'lambda_43[0][0]',              \n",
      "                                                                  'lambda_44[0][0]']              \n",
      "                                                                                                  \n",
      " concatenate_1 (Concatenate)    (None, 9, 1, 1024)   0           ['mobilenet_1.00_224[9][0]',     \n",
      "                                                                  'mobilenet_1.00_224[10][0]',    \n",
      "                                                                  'mobilenet_1.00_224[11][0]',    \n",
      "                                                                  'mobilenet_1.00_224[12][0]',    \n",
      "                                                                  'mobilenet_1.00_224[13][0]',    \n",
      "                                                                  'mobilenet_1.00_224[14][0]',    \n",
      "                                                                  'mobilenet_1.00_224[15][0]',    \n",
      "                                                                  'mobilenet_1.00_224[16][0]',    \n",
      "                                                                  'mobilenet_1.00_224[17][0]']    \n",
      "                                                                                                  \n",
      " dense_1 (Dense)                (None, 9, 1, 1)      1025        ['concatenate_1[0][0]']          \n",
      "                                                                                                  \n",
      " flatten_1 (Flatten)            (None, 9)            0           ['dense_1[0][0]']                \n",
      "                                                                                                  \n",
      "==================================================================================================\n",
      "Total params: 3,229,889\n",
      "Trainable params: 3,208,001\n",
      "Non-trainable params: 21,888\n",
      "__________________________________________________________________________________________________\n"
     ]
    }
   ],
   "source": [
    "model.summary()"
   ]
  },
  {
   "cell_type": "code",
   "execution_count": 12,
   "metadata": {},
   "outputs": [
    {
     "name": "stdout",
     "output_type": "stream",
     "text": [
      "Total number of layers is 14\n",
      "Number of pretrained base layers is 86\n"
     ]
    }
   ],
   "source": [
    "total_num_layers = len(model.layers)\n",
    "num_base_layers = len(conv_base.layers)\n",
    "print(f\"Total number of layers is {total_num_layers}\")\n",
    "print(f\"Number of pretrained base layers is {num_base_layers}\")\n",
    "\n",
    "for layer in model.layers[:num_base_layers]:\n",
    "    layer.trainable=False\n",
    "for layer in model.layers[num_base_layers:]:\n",
    "    layer.trainable=True"
   ]
  },
  {
   "cell_type": "code",
   "execution_count": 27,
   "metadata": {},
   "outputs": [
    {
     "ename": "ModuleNotFoundError",
     "evalue": "No module named 'tensorflow_ranking'",
     "output_type": "error",
     "traceback": [
      "\u001b[1;31m---------------------------------------------------------------------------\u001b[0m",
      "\u001b[1;31mModuleNotFoundError\u001b[0m                       Traceback (most recent call last)",
      "\u001b[1;32mc:\\Users\\mwels\\Documents\\Uni\\11. Semester\\Deep learning in visual recognition\\myawesome\\NotebookZwei.ipynb Zelle 7\u001b[0m in \u001b[0;36m<cell line: 5>\u001b[1;34m()\u001b[0m\n\u001b[0;32m      <a href='vscode-notebook-cell:/c%3A/Users/mwels/Documents/Uni/11.%20Semester/Deep%20learning%20in%20visual%20recognition/myawesome/NotebookZwei.ipynb#W5sZmlsZQ%3D%3D?line=2'>3</a>\u001b[0m \u001b[39mfrom\u001b[39;00m \u001b[39msklearn\u001b[39;00m\u001b[39m.\u001b[39;00m\u001b[39mmodel_selection\u001b[39;00m \u001b[39mimport\u001b[39;00m train_test_split\n\u001b[0;32m      <a href='vscode-notebook-cell:/c%3A/Users/mwels/Documents/Uni/11.%20Semester/Deep%20learning%20in%20visual%20recognition/myawesome/NotebookZwei.ipynb#W5sZmlsZQ%3D%3D?line=3'>4</a>\u001b[0m \u001b[39mfrom\u001b[39;00m \u001b[39msrc\u001b[39;00m\u001b[39m.\u001b[39;00m\u001b[39mpermutation_tools\u001b[39;00m \u001b[39mimport\u001b[39;00m \u001b[39m*\u001b[39m\n\u001b[1;32m----> <a href='vscode-notebook-cell:/c%3A/Users/mwels/Documents/Uni/11.%20Semester/Deep%20learning%20in%20visual%20recognition/myawesome/NotebookZwei.ipynb#W5sZmlsZQ%3D%3D?line=4'>5</a>\u001b[0m \u001b[39mimport\u001b[39;00m \u001b[39msrc\u001b[39;00m\u001b[39m.\u001b[39;00m\u001b[39mtensorflow_ranking\u001b[39;00m \u001b[39mas\u001b[39;00m \u001b[39mtfr\u001b[39;00m \n\u001b[0;32m      <a href='vscode-notebook-cell:/c%3A/Users/mwels/Documents/Uni/11.%20Semester/Deep%20learning%20in%20visual%20recognition/myawesome/NotebookZwei.ipynb#W5sZmlsZQ%3D%3D?line=6'>7</a>\u001b[0m x_train, x_test \u001b[39m=\u001b[39m train_test_split(filelist)\n\u001b[0;32m      <a href='vscode-notebook-cell:/c%3A/Users/mwels/Documents/Uni/11.%20Semester/Deep%20learning%20in%20visual%20recognition/myawesome/NotebookZwei.ipynb#W5sZmlsZQ%3D%3D?line=8'>9</a>\u001b[0m train_generator \u001b[39m=\u001b[39m PermNetDataGenerator(x_train, \u001b[39m16\u001b[39m)\n",
      "File \u001b[1;32mc:\\Users\\mwels\\Documents\\Uni\\11. Semester\\Deep learning in visual recognition\\myawesome\\src\\tensorflow_ranking\\__init__.py:20\u001b[0m, in \u001b[0;36m<module>\u001b[1;34m\u001b[0m\n\u001b[0;32m     15\u001b[0m \u001b[39m\"\"\"TensorFlow Ranking, the project to build ranking models on TensorFlow.\"\"\"\u001b[39;00m\n\u001b[0;32m     17\u001b[0m \u001b[39m# Contributors to the `python/` dir should not alter this file; instead update\u001b[39;00m\n\u001b[0;32m     18\u001b[0m \u001b[39m# `python/__init__.py` as necessary.\u001b[39;00m\n\u001b[1;32m---> 20\u001b[0m \u001b[39mfrom\u001b[39;00m \u001b[39mtensorflow_ranking\u001b[39;00m \u001b[39mimport\u001b[39;00m extension \u001b[39mas\u001b[39;00m ext\n\u001b[0;32m     21\u001b[0m \u001b[39mfrom\u001b[39;00m \u001b[39mtensorflow_ranking\u001b[39;00m\u001b[39m.\u001b[39;00m\u001b[39mpython\u001b[39;00m \u001b[39mimport\u001b[39;00m \u001b[39m*\u001b[39m  \u001b[39m# pylint: disable=wildcard-import\u001b[39;00m\n\u001b[0;32m     22\u001b[0m \u001b[39mfrom\u001b[39;00m \u001b[39mtensorflow_ranking\u001b[39;00m\u001b[39m.\u001b[39;00m\u001b[39mpython\u001b[39;00m\u001b[39m.\u001b[39;00m\u001b[39mversion\u001b[39;00m \u001b[39mimport\u001b[39;00m __version__\n",
      "\u001b[1;31mModuleNotFoundError\u001b[0m: No module named 'tensorflow_ranking'"
     ]
    }
   ],
   "source": [
    "\n",
    "from isort import file\n",
    "from keras import optimizers\n",
    "from sklearn.model_selection import train_test_split\n",
    "from src.permutation_tools import *\n",
    "import tensorflow_ranking as tfr \n",
    "\n",
    "x_train, x_test = train_test_split(filelist)\n",
    "\n",
    "train_generator = PermNetDataGenerator(x_train, 16)\n",
    "validation_generator = PermNetDataGenerator(x_test, 16)\n",
    "\n",
    "\n",
    "# Set up optimizer\n",
    "sgd_optimizer = optimizers.SGD(lr=0.001, decay=1e-6, momentum=0.9, nesterov=True)\n",
    "\n",
    "# Compile model - make it trainable\n",
    "model.compile(optimizer=sgd_optimizer,loss=tfr.keras.losses.MeanSquaredLoss(), metrics=['accuracy'])\n",
    "\n",
    "step_size_train = train_generator.n//train_generator.batch_size # Number of mini-batches per epoch (training)\n",
    "step_size_val = validation_generator.n//validation_generator.batch_size # Number of mini-batches per epoch (validation)\n",
    "\n",
    "# Train model for 10 epochs\n",
    "history = model.fit_generator(generator=train_generator,\n",
    "                   validation_data=validation_generator,\n",
    "                   validation_steps=step_size_val,\n",
    "                   steps_per_epoch=step_size_train,\n",
    "                   epochs=5)"
   ]
  },
  {
   "cell_type": "code",
   "execution_count": 29,
   "metadata": {},
   "outputs": [
    {
     "ename": "ModuleNotFoundError",
     "evalue": "No module named 'tensorflow_ranking'",
     "output_type": "error",
     "traceback": [
      "\u001b[1;31m---------------------------------------------------------------------------\u001b[0m",
      "\u001b[1;31mModuleNotFoundError\u001b[0m                       Traceback (most recent call last)",
      "\u001b[1;32mc:\\Users\\mwels\\Documents\\Uni\\11. Semester\\Deep learning in visual recognition\\myawesome\\NotebookZwei.ipynb Zelle 8\u001b[0m in \u001b[0;36m<cell line: 1>\u001b[1;34m()\u001b[0m\n\u001b[1;32m----> <a href='vscode-notebook-cell:/c%3A/Users/mwels/Documents/Uni/11.%20Semester/Deep%20learning%20in%20visual%20recognition/myawesome/NotebookZwei.ipynb#X10sZmlsZQ%3D%3D?line=0'>1</a>\u001b[0m \u001b[39mfrom\u001b[39;00m \u001b[39mtensorflow_ranking\u001b[39;00m \u001b[39mimport\u001b[39;00m losses\n",
      "\u001b[1;31mModuleNotFoundError\u001b[0m: No module named 'tensorflow_ranking'"
     ]
    }
   ],
   "source": [
    "\n",
    "from tensorflow_ranking import losses"
   ]
  }
 ],
 "metadata": {
  "kernelspec": {
   "display_name": "Python 3.9.12 ('base')",
   "language": "python",
   "name": "python3"
  },
  "language_info": {
   "codemirror_mode": {
    "name": "ipython",
    "version": 3
   },
   "file_extension": ".py",
   "mimetype": "text/x-python",
   "name": "python",
   "nbconvert_exporter": "python",
   "pygments_lexer": "ipython3",
   "version": "3.9.12"
  },
  "orig_nbformat": 4,
  "vscode": {
   "interpreter": {
    "hash": "0e3a6a34bc42bcae3b020ac2cf6b1d35cfba37564a6a2e4a67facc18cb851ba8"
   }
  }
 },
 "nbformat": 4,
 "nbformat_minor": 2
}
